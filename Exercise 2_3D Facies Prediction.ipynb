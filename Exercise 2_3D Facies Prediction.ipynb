{
 "cells": [
  {
   "cell_type": "markdown",
   "metadata": {
    "id": "pNvyDCPDq6BR"
   },
   "source": [
    "# Import necessary Python libraries"
   ]
  },
  {
   "cell_type": "code",
   "execution_count": null,
   "metadata": {
    "id": "K2QdjkdGq6BR"
   },
   "outputs": [],
   "source": [
    "import segyio\n",
    "from segysak.segy import segy_header_scan\n",
    "from IPython.display import display"
   ]
  },
  {
   "cell_type": "code",
   "execution_count": null,
   "metadata": {
    "id": "kZsEb6yvq6BS"
   },
   "outputs": [],
   "source": [
    "import numpy as np\n",
    "import pandas as pd\n",
    "import matplotlib\n",
    "from matplotlib import colors\n",
    "import matplotlib.pyplot as plt\n",
    "import seaborn as sns\n",
    "import plotly as px\n",
    "import plotly.graph_objects as go\n",
    "import plotly.express as px\n",
    "from pylab import figure, cm"
   ]
  },
  {
   "cell_type": "code",
   "execution_count": null,
   "metadata": {
    "id": "I4WA4_WCq6BS"
   },
   "outputs": [],
   "source": [
    "from sklearn import metrics\n",
    "from sklearn import neighbors\n",
    "from sklearn.preprocessing import StandardScaler\n",
    "from sklearn.svm import SVC\n",
    "from sklearn.model_selection import cross_val_score\n",
    "from sklearn.metrics import precision_recall_fscore_support as score\n",
    "from sklearn.metrics import confusion_matrix, classification_report, accuracy_score\n",
    "from sklearn.metrics._plot.confusion_matrix import ConfusionMatrixDisplay\n",
    "from sklearn.metrics import classification_report\n",
    "from sklearn.model_selection import train_test_split\n",
    "from sklearn.ensemble import RandomForestClassifier\n",
    "from sklearn.model_selection import RandomizedSearchCV\n",
    "from sklearn.linear_model import LogisticRegression\n",
    "from itertools import product"
   ]
  },
  {
   "cell_type": "code",
   "execution_count": null,
   "metadata": {
    "id": "gAKsPDEtq6BT"
   },
   "outputs": [],
   "source": [
    "import warnings\n",
    "warnings.filterwarnings('ignore')\n",
    "\n",
    "import scipy as sp\n",
    "import re\n",
    "from IPython.display import display\n",
    "from mpl_toolkits.axes_grid1 import make_axes_locatable\n"
   ]
  },
  {
   "cell_type": "markdown",
   "metadata": {},
   "source": [
    "# Data Import"
   ]
  },
  {
   "cell_type": "markdown",
   "metadata": {},
   "source": [
    "The following 3D volumes are present in the dataset:\n",
    "1. Facies\n",
    "2. Seismic volume\n",
    "3. Relative Acoustic Impedance (RelAI)\n",
    "4. Instantaneous Frequency\n",
    "5. Envelope\n",
    "6. Seismic Inversion"
   ]
  },
  {
   "cell_type": "code",
   "execution_count": null,
   "metadata": {
    "id": "mlicoebAq6BV"
   },
   "outputs": [],
   "source": [
    "facies = segyio.tools.cube('/data/Facies_Cube _case_4.segy')\n",
    "seis = segyio.tools.cube('/data/Seismic_Cube_Ormsby_10_60_case_4.segy')\n",
    "relai = segyio.tools.cube('/data/RelAcImpedance_10_60_Cube_case_4.segy')\n",
    "inst_freq = segyio.tools.cube('/data/InstFs_10_60_Cube_case_4.segy')\n",
    "envel = segyio.tools.cube('/data/Envelope_10_60_Cube_case_4.segy')\n",
    "seis_inv = segyio.tools.cube('/data/Impedance_10_60_Cube_case_4.segy')\n"
   ]
  },
  {
   "cell_type": "markdown",
   "metadata": {
    "id": "Kbxu-cSSq6BV"
   },
   "source": [
    "# Exploratory Data Analysis & Visualization"
   ]
  },
  {
   "cell_type": "markdown",
   "metadata": {},
   "source": [
    "## Cleaning the dataset"
   ]
  },
  {
   "cell_type": "markdown",
   "metadata": {},
   "source": [
    "The data is equal to -1 outside of the zone of interest. Hence, we will remove those data points."
   ]
  },
  {
   "cell_type": "code",
   "execution_count": null,
   "metadata": {
    "id": "07I6mHrEq6BX"
   },
   "outputs": [],
   "source": [
    "facies = np.where(facies==-1, np.nan, facies)\n",
    "seis = np.where(seis==-1, np.nan, seis)\n",
    "relai= np.where(relai==-1, np.nan, relai)\n",
    "inst_freq= np.where(inst_freq==-1, np.nan, inst_freq)\n",
    "envel = np.where(envel==-1, np.nan, envel)\n",
    "seis_inv = np.where((seis_inv==-1), np.nan, seis_inv)"
   ]
  },
  {
   "cell_type": "markdown",
   "metadata": {},
   "source": [
    "Let us inspect the shape of the dataset, to ensure consistency. "
   ]
  },
  {
   "cell_type": "code",
   "execution_count": null,
   "metadata": {
    "colab": {
     "base_uri": "https://localhost:8080/"
    },
    "id": "T3VfBfQuq6Bc",
    "outputId": "5688b609-e0b6-4901-a0a0-875ab80668d0"
   },
   "outputs": [],
   "source": [
    "facies.shape"
   ]
  },
  {
   "cell_type": "code",
   "execution_count": null,
   "metadata": {
    "colab": {
     "base_uri": "https://localhost:8080/"
    },
    "id": "Rcis30U0q6Bc",
    "outputId": "de9c98f1-497c-4f05-81ba-92b18e874a3e"
   },
   "outputs": [],
   "source": [
    "seis_inv.shape"
   ]
  },
  {
   "cell_type": "markdown",
   "metadata": {},
   "source": [
    "We will remove the additional row of the Seismic Inverted volume. "
   ]
  },
  {
   "cell_type": "code",
   "execution_count": null,
   "metadata": {
    "colab": {
     "base_uri": "https://localhost:8080/"
    },
    "id": "oGqpfSJOq6Bc",
    "outputId": "d167e952-3826-4f51-9335-a97bd93e2821"
   },
   "outputs": [],
   "source": [
    "seis_inv_1 = np.delete(seis_inv, -1, axis=-1)\n",
    "seis_inv_1.shape"
   ]
  },
  {
   "cell_type": "markdown",
   "metadata": {
    "id": "MP82SNNfq6Bd"
   },
   "source": [
    "## Plotting 3D cubes"
   ]
  },
  {
   "cell_type": "code",
   "execution_count": null,
   "metadata": {
    "id": "tuIT1cPkE82a"
   },
   "outputs": [],
   "source": [
    "def plot_3D_cube(data, color_map='facies', number_of_facies=5, number_of_wells=7):\n",
    "    x = np.indices(data.shape)[0]\n",
    "    y = np.indices(data.shape)[1]\n",
    "    z = np.indices(data.shape)[2]\n",
    "    col = data.flatten()\n",
    "\n",
    "    # 3D Plot\n",
    "    fig = plt.figure(figsize=(10, 6))\n",
    "    ax3D = fig.add_subplot(projection='3d')\n",
    "    # ax3D = plt.axes(projection='3d')\n",
    "\n",
    "\n",
    "\n",
    "    # We will extract 7 wells for training, such that they don't cross any fault zones.\n",
    "    start_x = [10, 60, 30, 25, 65, 50, 21]\n",
    "    start_y = [15, 15, 20, 58, 60, 50, 35]\n",
    "    start_z = [700, 700, 700, 700, 700, 700, 700]\n",
    "\n",
    "    end_x = [10, 60, 30, 25, 65, 50, 21]\n",
    "    end_y = [15, 15, 20, 58, 60, 50, 35]\n",
    "    end_z  =[0, 0, 0, 0, 0, 0, 0]\n",
    "\n",
    "    ax3D.set_xlabel('x')\n",
    "    ax3D.set_ylabel('y')\n",
    "    ax3D.set_zlabel('z')\n",
    "\n",
    "    if number_of_wells == 7:\n",
    "        for well in range(number_of_wells):\n",
    "            ax3D.plot([start_x[well], end_x[well]], [start_y[well], end_y[well]],  zs=[start_z[well], end_z[well]], color='black', linewidth = 1)\n",
    "\n",
    "    elif number_of_wells == None:\n",
    "        pass\n",
    "\n",
    "\n",
    "    if color_map == 'facies':\n",
    "\n",
    "        if number_of_facies == 5:\n",
    "            facies_name = ['','Coarse Sand', 'Sand', 'Fine Sand', 'Shale']\n",
    "            facies_color = ['#FFFFFF' ,'#E69076', '#FFFF00', '#FFCC00', '#A6A6A6', '#8080FF']\n",
    "            cmap = matplotlib.colors.ListedColormap(facies_color)\n",
    "            bounds = [-1.5, -0.5, 0.5, 1.5, 2.5, 3.5, 4.5]\n",
    "            norm = matplotlib.colors.BoundaryNorm(bounds, cmap.N)\n",
    "\n",
    "            p3d = ax3D.scatter(x, y, z, c=data, cmap=cmap)\n",
    "            fig.colorbar(p3d)\n",
    "\n",
    "\n",
    "        if number_of_facies == 4:\n",
    "            facies_name = ['Coarse Sand', 'Sand', 'Fine Sand', 'Shale']\n",
    "            facies_color = ['#E69076', '#FFFF00', '#FFCC00', '#A6A6A6', '#8080FF']\n",
    "            cmap = matplotlib.colors.ListedColormap(facies_color)\n",
    "            bounds = [-0.5, 0.5, 1.5, 2.5, 3.5, 4.5]\n",
    "            norm = matplotlib.colors.BoundaryNorm(bounds, cmap.N)\n",
    "\n",
    "            p3d = ax3D.scatter(x, y, z, c=data, cmap=cmap)\n",
    "            fig.colorbar(p3d, ticks=np.arange(0, 5))\n",
    "\n",
    "    elif color_map == 'relai':\n",
    "\n",
    "        p3d = ax3D.scatter(x, y, z, c=data, cmap='jet')\n",
    "        fig.colorbar(p3d)\n",
    "\n",
    "    else:\n",
    "\n",
    "        p3d = ax3D.scatter(x, y, z, c=data, cmap='jet')\n",
    "        fig.colorbar(p3d)\n",
    "\n",
    "    plt.show()"
   ]
  },
  {
   "cell_type": "code",
   "execution_count": null,
   "metadata": {
    "colab": {
     "base_uri": "https://localhost:8080/",
     "height": 513
    },
    "id": "-0nJr9wSq6Bd",
    "outputId": "ffd60a9e-e70b-4846-85a0-a32c743ed6ca"
   },
   "outputs": [],
   "source": [
    "plot_3D_cube(data=facies, color_map='facies', number_of_facies=5, number_of_wells=None)"
   ]
  },
  {
   "cell_type": "markdown",
   "metadata": {
    "id": "QPKuUuBOq6Be"
   },
   "source": [
    "## Statistical Analysis"
   ]
  },
  {
   "cell_type": "code",
   "execution_count": null,
   "metadata": {
    "colab": {
     "base_uri": "https://localhost:8080/",
     "height": 593
    },
    "id": "-CY7Qvjoq6Be",
    "outputId": "2bba690f-1707-4bd3-e892-7cb395d846ea"
   },
   "outputs": [],
   "source": [
    "# Histograms\n",
    "fig, ax = plt.subplots(2, 3, figsize=(10, 6))\n",
    "# fig, ax = plt.subplots(2, 3)\n",
    "\n",
    "\n",
    "# Seismic\n",
    "ax[0, 0].hist(seis.flatten(), weights=np.ones(len(seis.flatten())) / len(seis.flatten()))\n",
    "ax[0, 0].set_title('Seismic')\n",
    "\n",
    "# Seismic Inv\n",
    "ax[0, 1].hist(seis_inv_1.flatten(), weights=np.ones(len(seis_inv_1.flatten())) / len(seis_inv_1.flatten()))\n",
    "ax[0, 1].set_title('Seismic Inversion')\n",
    "\n",
    "# Rel AI\n",
    "ax[0, 2].hist(relai.flatten(), weights=np.ones(len(relai.flatten())) / len(relai.flatten()))\n",
    "ax[0, 2].set_title('Relative AI')\n",
    "\n",
    "# Inst Freq\n",
    "ax[1, 0].hist(inst_freq.flatten(), weights=np.ones(len(inst_freq.flatten())) / len(inst_freq.flatten()))\n",
    "ax[1, 0].set_title('Inst. Frequency')\n",
    "\n",
    "# Envelope\n",
    "ax[1, 1].hist(envel.flatten(), weights=np.ones(len(envel.flatten())) / len(envel.flatten()))\n",
    "ax[1, 1].set_title('Envelope')\n",
    "ax.flatten()[4].set_ylabel('Envelope, %')\n",
    "\n",
    "# # Facies\n",
    "ax[1, 2].hist(facies.flatten(), weights=np.ones(len(facies.flatten())) / len(facies.flatten()))\n",
    "ax[1, 2].set_title('Facies')\n",
    "\n",
    "\n",
    "for i in range(6):\n",
    "    ax.flatten()[i].set_ylabel('Proportion, %')\n",
    "\n",
    "fig.subplots_adjust(left=0.1, right=0.99, bottom=0.05, top=0.9,\n",
    "                    hspace=0.5, wspace=0.5)\n",
    "\n",
    "\n",
    "plt.show()"
   ]
  },
  {
   "cell_type": "markdown",
   "metadata": {
    "id": "l9aweUCEq6Bf"
   },
   "source": [
    "# Feature Scaling & Standardization"
   ]
  },
  {
   "cell_type": "code",
   "execution_count": null,
   "metadata": {
    "id": "JRK1jyZMq6Bf"
   },
   "outputs": [],
   "source": [
    "def standartization_3D(feature_3D_array):\n",
    "\n",
    "    # Flatten 3D array (to 1D)\n",
    "    feature_array_1d = feature_3D_array.reshape(-1)\n",
    "\n",
    "    # Calculate STD\n",
    "    std_all = np.nanstd(feature_array_1d)\n",
    "\n",
    "    # Calculate Mean\n",
    "    mean_all = np.nanmean(feature_array_1d)\n",
    "\n",
    "    # Apply Standartization\n",
    "    feature_std_3D = (feature_3D_array - mean_all) / std_all\n",
    "\n",
    "    return feature_std_3D"
   ]
  },
  {
   "cell_type": "code",
   "execution_count": null,
   "metadata": {
    "colab": {
     "base_uri": "https://localhost:8080/"
    },
    "id": "vtUlaWpkq6Bf",
    "outputId": "d40e0331-f4f1-4605-bde4-ddaeea919c21"
   },
   "outputs": [],
   "source": [
    "relai_std = standartization_3D(relai)\n",
    "relai_std.shape"
   ]
  },
  {
   "cell_type": "code",
   "execution_count": null,
   "metadata": {
    "colab": {
     "base_uri": "https://localhost:8080/"
    },
    "id": "E7ypShSNq6Bg",
    "outputId": "bb52d86e-6442-42c1-c675-00f4c0deaa84"
   },
   "outputs": [],
   "source": [
    "seis_inv_std = standartization_3D(seis_inv_1)\n",
    "seis_inv_std.shape"
   ]
  },
  {
   "cell_type": "code",
   "execution_count": null,
   "metadata": {
    "colab": {
     "base_uri": "https://localhost:8080/"
    },
    "id": "t1Mnt8gdq6Bg",
    "outputId": "54ce5843-16f0-43a5-e55c-66e90ec7f3af"
   },
   "outputs": [],
   "source": [
    "inst_freq_std = standartization_3D(inst_freq)\n",
    "inst_freq_std.shape"
   ]
  },
  {
   "cell_type": "code",
   "execution_count": null,
   "metadata": {
    "colab": {
     "base_uri": "https://localhost:8080/"
    },
    "id": "_oCDU5gsq6Bg",
    "outputId": "b334f832-7e07-4587-d41d-133aa3b3b85a"
   },
   "outputs": [],
   "source": [
    "envel_std = standartization_3D(envel)\n",
    "envel_std.shape"
   ]
  },
  {
   "cell_type": "code",
   "execution_count": null,
   "metadata": {
    "colab": {
     "base_uri": "https://localhost:8080/"
    },
    "id": "1W7g74Otq6Bg",
    "outputId": "9be1d7ff-facb-4d65-d3da-50835813fefe"
   },
   "outputs": [],
   "source": [
    "seis_std = standartization_3D(seis)\n",
    "seis_std.shape"
   ]
  },
  {
   "cell_type": "markdown",
   "metadata": {},
   "source": [
    "Select 7 wells for training the models, such that the wells don't cross over fault zones."
   ]
  },
  {
   "cell_type": "code",
   "execution_count": null,
   "metadata": {
    "id": "5zGvF5trq6Bg"
   },
   "outputs": [],
   "source": [
    "start_x = [10, 60, 30, 25, 65, 50, 21]\n",
    "start_y = [15, 15, 20, 58, 60, 50, 35]\n",
    "start_z = [660, 660, 660, 660, 660, 660, 660]\n",
    "\n",
    "end_x = [10, 60, 30, 25, 65, 50, 21]\n",
    "end_y = [15, 15, 20, 58, 60, 50, 35]\n",
    "end_z  =[0, 0, 0, 0, 0, 0, 0]"
   ]
  },
  {
   "cell_type": "markdown",
   "metadata": {},
   "source": [
    "Using the well path coordinates, extract the properties for those wells. "
   ]
  },
  {
   "cell_type": "code",
   "execution_count": null,
   "metadata": {
    "id": "r5cHhcrIq6Bg"
   },
   "outputs": [],
   "source": [
    "def extract_wells_with_data_3D(data_3D, x_coord_wells, y_coord_wells):\n",
    "    wells_list = []\n",
    "\n",
    "    for well_x in x_coord_wells:\n",
    "        for well_y in y_coord_wells:\n",
    "\n",
    "            each_well = data_3D[x_coord_wells, y_coord_wells, :]\n",
    "\n",
    "    wells_list.append(each_well)\n",
    "\n",
    "    # Convert to list and Remove nan from well_all\n",
    "    well_3d_array = np.asarray(wells_list)\n",
    "    well_2d_array = np.reshape(well_3d_array, (len(x_coord_wells), data_3D.shape[2]))\n",
    "    # wells_1d_array = well_2d_array.flatten()\n",
    "\n",
    "    return well_2d_array"
   ]
  },
  {
   "cell_type": "code",
   "execution_count": null,
   "metadata": {
    "id": "BE-iwXh1q6Bh"
   },
   "outputs": [],
   "source": [
    "seis_inv_std_wells = extract_wells_with_data_3D(seis_inv_std, start_x, start_y)\n",
    "seis_inv_std_wells\n",
    "df_seis_inv_std_wells = pd.DataFrame(seis_inv_std_wells.T)\n",
    "\n"
   ]
  },
  {
   "cell_type": "code",
   "execution_count": null,
   "metadata": {
    "id": "6TquTDXcq6Bh"
   },
   "outputs": [],
   "source": [
    "relai_std_wells = extract_wells_with_data_3D(relai_std, start_x, start_y)\n",
    "relai_std_wells\n",
    "df_relai_std_wells = pd.DataFrame(relai_std_wells.T)\n"
   ]
  },
  {
   "cell_type": "code",
   "execution_count": null,
   "metadata": {
    "id": "XEvBfkX3q6Bh"
   },
   "outputs": [],
   "source": [
    "seis_std_wells = extract_wells_with_data_3D(seis_std, start_x, start_y)\n",
    "seis_std_wells\n",
    "df_seis_std_wells = pd.DataFrame(seis_std_wells.T)\n"
   ]
  },
  {
   "cell_type": "code",
   "execution_count": null,
   "metadata": {
    "id": "kiTAq4X5q6Bh"
   },
   "outputs": [],
   "source": [
    "inst_freq_std_wells = extract_wells_with_data_3D(inst_freq_std, start_x, start_y)\n",
    "inst_freq_std_wells\n",
    "df_inst_freq_std_wells = pd.DataFrame(inst_freq_std_wells.T)\n"
   ]
  },
  {
   "cell_type": "code",
   "execution_count": null,
   "metadata": {
    "id": "IQeIqlFCq6Bh"
   },
   "outputs": [],
   "source": [
    "envel_std_wells = extract_wells_with_data_3D(envel_std, start_x, start_y)\n",
    "envel_std_wells\n",
    "df_envel_std_wells = pd.DataFrame(envel_std_wells.T)\n"
   ]
  },
  {
   "cell_type": "code",
   "execution_count": null,
   "metadata": {
    "id": "tBTG-rB-q6Bh"
   },
   "outputs": [],
   "source": [
    "facies_wells = extract_wells_with_data_3D(facies, start_x, start_y)\n",
    "facies_wells\n",
    "df_facies_wells = pd.DataFrame(facies_wells.T)\n"
   ]
  },
  {
   "cell_type": "code",
   "execution_count": null,
   "metadata": {
    "colab": {
     "base_uri": "https://localhost:8080/"
    },
    "id": "q6VjxSblq6Bi",
    "outputId": "98d3a0e0-3b89-4e58-b308-1a30841c068e"
   },
   "outputs": [],
   "source": [
    "np.unique(facies_wells)"
   ]
  },
  {
   "cell_type": "code",
   "execution_count": null,
   "metadata": {
    "colab": {
     "base_uri": "https://localhost:8080/"
    },
    "id": "Cgkzhcmaq6Bi",
    "outputId": "e02e8e09-e402-427e-ed54-eb2c8d37b11c"
   },
   "outputs": [],
   "source": [
    "print(relai_std_wells.shape)\n",
    "print(seis_inv_std_wells.shape)\n",
    "print(seis_std_wells.shape)\n",
    "print(envel_std_wells.shape)\n",
    "print(inst_freq_std_wells.shape)"
   ]
  },
  {
   "cell_type": "markdown",
   "metadata": {},
   "source": [
    "Create a list with the required properties"
   ]
  },
  {
   "cell_type": "code",
   "execution_count": null,
   "metadata": {
    "colab": {
     "base_uri": "https://localhost:8080/"
    },
    "id": "edVQak-Tq6Bi",
    "outputId": "43a5296d-c55f-4ea3-c07f-1489c90f23cc"
   },
   "outputs": [],
   "source": [
    "feature_list_RelAI_Seis_Envel_InstFreq_SeisInv =    [df_relai_std_wells,\n",
    "                                                    df_seis_std_wells,\n",
    "                                                    df_envel_std_wells,\n",
    "                                                    df_inst_freq_std_wells,\n",
    "                                                    df_seis_inv_std_wells\n",
    "                                                    ]\n",
    "len(feature_list_RelAI_Seis_Envel_InstFreq_SeisInv)"
   ]
  },
  {
   "cell_type": "code",
   "execution_count": null,
   "metadata": {
    "id": "f_dRBa5aILar"
   },
   "outputs": [],
   "source": [
    "def difference_map_3D(df_facies_comparison, facies_predicted, number_of_wells=7):\n",
    "    d, e, f = np.shape(df_facies_comparison)\n",
    "    facies_difference_map = np.zeros((d, e, f))\n",
    "    facies_difference_map[:] = np.NaN\n",
    "\n",
    "\n",
    "    # The difference map\n",
    "    np_facies_fact = df_facies_comparison\n",
    "    np_facies_predicted = facies_predicted\n",
    "\n",
    "\n",
    "    facies_difference = np.subtract(np_facies_fact, np_facies_predicted)\n",
    "    # np.unique(facies_difference)\n",
    "    facies_difference_map = np.where(((facies_difference >= 1) | (facies_difference <= -1)),  1, facies_difference)\n",
    "\n",
    "\n",
    "    x = np.indices(df_facies_comparison.shape)[0]\n",
    "    y = np.indices(df_facies_comparison.shape)[1]\n",
    "    z = np.indices(df_facies_comparison.shape)[2]\n",
    "    col = df_facies_comparison.flatten()\n",
    "\n",
    "    # 3D Plot\n",
    "    fig = plt.figure(figsize=(8, 8))\n",
    "    #fig1=plt.figure(figsize=(8,5))\n",
    "    ax3D = fig.add_subplot(projection='3d')\n",
    "\n",
    "\n",
    "\n",
    "    start_x = [10, 60, 30, 25, 65, 50, 21]\n",
    "    start_y = [15, 15, 20, 58, 60, 50, 35]\n",
    "    start_z = [700, 700, 700, 700, 700, 700, 700]\n",
    "\n",
    "    end_x = [10, 60, 30, 25, 65, 50, 21]\n",
    "    end_y = [15, 15, 20, 58, 60, 50, 35]\n",
    "    end_z  =[0, 0, 0, 0, 0, 0, 0]\n",
    "\n",
    "    ax3D.set_xlabel('x')\n",
    "    ax3D.set_ylabel('y')\n",
    "    ax3D.set_zlabel('z')\n",
    "\n",
    "    for well in range(number_of_wells):\n",
    "        ax3D.plot([start_x[well], end_x[well]], [start_y[well], end_y[well]],  zs=[start_z[well], end_z[well]], color='black', linewidth = 1)\n",
    "\n",
    "\n",
    "    cmap = matplotlib.colors.ListedColormap(['green', 'red'])\n",
    "    bounds = [-0.5, 0.5, 1.5]\n",
    "    norm = matplotlib.colors.BoundaryNorm(bounds, cmap.N)\n",
    "    p3d = ax3D.scatter(x, y, z, c=facies_difference_map, cmap=cmap)\n",
    "    # fig.colorbar(p3d, ticks=np.arange(0, 5))\n",
    "    fig.colorbar(p3d, ticks=np.arange(0, 2))\n",
    "    plt.show()"
   ]
  },
  {
   "cell_type": "markdown",
   "metadata": {
    "id": "O1pR34Qdq6Bi"
   },
   "source": [
    "# Supervised ML models"
   ]
  },
  {
   "cell_type": "markdown",
   "metadata": {
    "id": "nqVdFZjaq6Bi"
   },
   "source": [
    "## Data Preparation"
   ]
  },
  {
   "cell_type": "code",
   "execution_count": null,
   "metadata": {
    "id": "K11ARLClHxLe"
   },
   "outputs": [],
   "source": [
    "def concat_features_RelAI_Seis_Envel_InstFreq_SeisInv(df_facies_wells, feature_list_RelAI_Seis_Envel_InstFreq_SeisInv):\n",
    "    \"\"\"The function concatenate features (RelAI, Seismic, Envelope, InstFreq) with Facies\n",
    "\n",
    "    Args:\n",
    "        df_facies_wells (DataFrame): Facies\n",
    "        feature_list_RelAI_Seis_Envel_InstFreq (lisr): list of features\n",
    "\n",
    "    Returns:\n",
    "        facies_and_features (DataFrame): concatenated dataframe with facies and 5 features (Relative AI,\n",
    "        Seismic, Envelope, Instant Frequency, Geological Time)\n",
    "    \"\"\"\n",
    "    def create_empty_lists(a):\n",
    "        for i in range(a):\n",
    "            yield []\n",
    "\n",
    "    XX0, XX1, XX2, XX3, XX4 = create_empty_lists(len(feature_list_RelAI_Seis_Envel_InstFreq_SeisInv))\n",
    "    YY1 = []\n",
    "\n",
    "    for every_well in range(len(df_facies_wells.columns)):\n",
    "\n",
    "        X0 = feature_list_RelAI_Seis_Envel_InstFreq_SeisInv[0].iloc[:,every_well]\n",
    "        X1 = feature_list_RelAI_Seis_Envel_InstFreq_SeisInv[1].iloc[:,every_well]\n",
    "        X2 = feature_list_RelAI_Seis_Envel_InstFreq_SeisInv[2].iloc[:,every_well]\n",
    "        X3 = feature_list_RelAI_Seis_Envel_InstFreq_SeisInv[3].iloc[:,every_well]\n",
    "        X4 = feature_list_RelAI_Seis_Envel_InstFreq_SeisInv[4].iloc[:,every_well]\n",
    "\n",
    "        Y = df_facies_wells.iloc[:,every_well]\n",
    "\n",
    "        XX0.append(X0)\n",
    "        XX1.append(X1)\n",
    "        XX2.append(X2)\n",
    "        XX3.append(X3)\n",
    "        XX4.append(X4)\n",
    "\n",
    "        YY1.append(Y)\n",
    "\n",
    "    XX0 = pd.concat(XX0, ignore_index=False, axis=0)\n",
    "    XX1 = pd.concat(XX1, ignore_index=False, axis=0)\n",
    "    XX2 = pd.concat(XX2, ignore_index=False, axis=0)\n",
    "    XX3 = pd.concat(XX3, ignore_index=False, axis=0)\n",
    "    XX4 = pd.concat(XX4, ignore_index=False, axis=0)\n",
    "\n",
    "    facies = pd.concat(YY1, ignore_index=False)\n",
    "\n",
    "    features = pd.concat([XX0, XX1, XX2, XX3, XX4], axis=1)\n",
    "\n",
    "    features = features.rename(columns = {0:'relai',\n",
    "                                          1:'seis',\n",
    "                                          2: 'envel',\n",
    "                                          3: 'inst_freq',\n",
    "                                          4: 'seis_inv'\n",
    "                                          })\n",
    "    features\n",
    "\n",
    "    facies = pd.DataFrame(facies).rename(columns={0:'facies'})\n",
    "    facies\n",
    "\n",
    "    facies_and_features = pd.concat([facies, features], axis=1)\n",
    "    facies_and_features = facies_and_features.dropna(axis=0)\n",
    "\n",
    "    return facies_and_features"
   ]
  },
  {
   "cell_type": "code",
   "execution_count": null,
   "metadata": {
    "colab": {
     "base_uri": "https://localhost:8080/",
     "height": 424
    },
    "id": "17kgoT12q6Bi",
    "outputId": "d3bdce69-2edb-408a-ef20-b176f2620661"
   },
   "outputs": [],
   "source": [
    "facies_features_3 = concat_features_RelAI_Seis_Envel_InstFreq_SeisInv(df_facies_wells, feature_list_RelAI_Seis_Envel_InstFreq_SeisInv)\n",
    "facies_features_3\n",
    "\n",
    "facies_and_features = facies_features_3.copy()\n",
    "facies_and_features\n"
   ]
  },
  {
   "cell_type": "code",
   "execution_count": null,
   "metadata": {
    "colab": {
     "base_uri": "https://localhost:8080/"
    },
    "id": "ZkW5puUnq6Bj",
    "outputId": "116aa218-ac21-4cc1-fab5-0ff91e0553ae"
   },
   "outputs": [],
   "source": [
    "facies_and_features['facies'].value_counts()"
   ]
  },
  {
   "cell_type": "code",
   "execution_count": null,
   "metadata": {
    "id": "b1MG8bQ-q6Bj"
   },
   "outputs": [],
   "source": [
    "x_train, x_test, y_train, y_test = train_test_split(facies_and_features[['relai','seis', 'envel', 'inst_freq', 'seis_inv']],\n",
    "                                                    facies_and_features[['facies']],\n",
    "                                                    train_size=0.8,\n",
    "                                                    random_state=123)"
   ]
  },
  {
   "cell_type": "code",
   "execution_count": null,
   "metadata": {
    "colab": {
     "base_uri": "https://localhost:8080/",
     "height": 300
    },
    "id": "FMXXnobVq6Bj",
    "outputId": "c2e79e8d-d664-43c8-e2f7-00089bc97faa"
   },
   "outputs": [],
   "source": [
    "y_train.describe()"
   ]
  },
  {
   "cell_type": "markdown",
   "metadata": {},
   "source": [
    "## Logistic Regression"
   ]
  },
  {
   "cell_type": "code",
   "execution_count": null,
   "metadata": {
    "colab": {
     "base_uri": "https://localhost:8080/",
     "height": 75
    },
    "id": "evmhe2Dkq6Bj",
    "outputId": "772663ee-6959-4a2d-9738-8d0f3e9dc4da"
   },
   "outputs": [],
   "source": [
    "model_LR = LogisticRegression()\n",
    "model_LR.fit(x_train, y_train)"
   ]
  },
  {
   "cell_type": "code",
   "execution_count": null,
   "metadata": {
    "colab": {
     "base_uri": "https://localhost:8080/"
    },
    "id": "Z5pg-v84q6Bj",
    "outputId": "7c624f31-f746-4c89-8c33-1401e1f03142"
   },
   "outputs": [],
   "source": [
    "test_predict = model_LR.predict(x_test)\n",
    "\n",
    "print(pd.crosstab(y_test.values.flatten(), test_predict))\n",
    "print(classification_report(y_test.values.flatten(), test_predict))"
   ]
  },
  {
   "cell_type": "code",
   "execution_count": null,
   "metadata": {
    "colab": {
     "base_uri": "https://localhost:8080/"
    },
    "id": "pZ4NW6dBq6Bj",
    "outputId": "8b042e5a-af26-4dad-9bd9-cab4afcca639"
   },
   "outputs": [],
   "source": [
    "def accuracy_score_cv(estimator, X, y, cv=10):\n",
    "\n",
    "    from sklearn.model_selection import cross_val_score\n",
    "    #Applying 10-fold cross validation\n",
    "    accuracy_score_cv = cross_val_score(estimator=estimator, X=X, y=y, cv=cv)\n",
    "    print(\"accuracy: \", np.mean(accuracy_score_cv))\n",
    "\n",
    "    return np.mean(accuracy_score_cv)\n",
    "accuracy_score_LR = accuracy_score_cv(estimator=model_LR, X=x_train, y=y_train, cv=10)\n",
    "accuracy_score_LR"
   ]
  },
  {
   "cell_type": "code",
   "execution_count": null,
   "metadata": {
    "colab": {
     "base_uri": "https://localhost:8080/",
     "height": 419
    },
    "id": "hdsGJjGSq6Bj",
    "outputId": "8823af96-3f92-4d30-af47-486c539fa0e4"
   },
   "outputs": [],
   "source": [
    "def feature_importance_plot(model, x_train, y_train, random_state):\n",
    "\n",
    "    from sklearn.inspection import permutation_importance\n",
    "\n",
    "    res = permutation_importance(model, x_train, y_train, scoring='accuracy', random_state=random_state)\n",
    "    importance = res.importances_mean\n",
    "    importance\n",
    "    importance_res = pd.Series(importance, index=x_train.columns).sort_values(ascending=True)\n",
    "    importance_res\n",
    "    # Plot the results\n",
    "    fig, ax = plt.subplots(figsize=(8,4))\n",
    "    ax = importance_res.plot.barh()\n",
    "    ax.set_title('Permutation importance', fontsize=14)\n",
    "    ax.set_ylabel('Importance score', fontsize=14)\n",
    "    ax.set_xlabel('Percentage, %', fontsize=12)\n",
    "    plt.xticks(fontsize=12)\n",
    "    plt.yticks(fontsize=12)\n",
    "    plt.grid()\n",
    "    plt.show()\n",
    "feature_importance_plot(model_LR, x_train, y_train, random_state=50)"
   ]
  },
  {
   "cell_type": "code",
   "execution_count": null,
   "metadata": {
    "id": "qamc7Aa8q6Bk"
   },
   "outputs": [],
   "source": [
    "def predict_facies_3D(facies, relai_std, seis_std, envel_std, inst_freq_std, seis_inv_std, model):\n",
    "    r, c, b = np.shape(facies)\n",
    "\n",
    "    map_facies = np.zeros((r, c, b))\n",
    "    map_facies[:] = np.NaN\n",
    "    map_facies_1 = map_facies.copy()\n",
    "    df_f_comparison = map_facies.copy()\n",
    "\n",
    "    # for every trace (column)\n",
    "    for every_x in range(facies.shape[0]):\n",
    "        for every_y in range(facies.shape[1]):\n",
    "\n",
    "            new_df = pd.concat(\n",
    "                        [pd.DataFrame(relai_std[every_x, every_y]),\n",
    "                        pd.DataFrame(seis_std[every_x, every_y]),\n",
    "                        pd.DataFrame(envel_std[every_x, every_y]),\n",
    "                        pd.DataFrame(inst_freq_std[every_x, every_y]),\n",
    "                        pd.DataFrame(seis_inv_std[every_x, every_y])]\n",
    "                        , axis=1)\n",
    "\n",
    "\n",
    "\n",
    "            new_features = new_df.dropna(axis=0)\n",
    "\n",
    "            #new_features = new_df\n",
    "            non_empty_facies = pd.DataFrame(facies[every_x, every_y, :]).dropna(axis=0)\n",
    "\n",
    "            map_facies[every_x, every_y, new_features.index] = model.predict(new_features)\n",
    "\n",
    "\n",
    "            # Filter\n",
    "            map_facies_1[every_x, every_y, non_empty_facies.index] = map_facies[every_x, every_y, non_empty_facies.index]\n",
    "            df_f_comparison[every_x, every_y, new_features.index] = facies[every_x, every_y, new_features.index]\n",
    "\n",
    "    # df_facies_wells = df_wells_from_section(df_f_copy, col_30)\n",
    "\n",
    "    map_facies\n",
    "    map_facies_1\n",
    "    return map_facies_1, df_f_comparison"
   ]
  },
  {
   "cell_type": "code",
   "execution_count": null,
   "metadata": {
    "id": "0eguM5rSq6Bk"
   },
   "outputs": [],
   "source": [
    "facies_pred, df_facies_comparison = predict_facies_3D(facies=facies,\n",
    "\n",
    "                                                    relai_std=relai_std,\n",
    "                                                    seis_std=seis_std,\n",
    "                                                    envel_std=envel_std,\n",
    "                                                    inst_freq_std=inst_freq_std,\n",
    "                                                    seis_inv_std=seis_inv_std,\n",
    "\n",
    "                                                    model=model_LR)\n"
   ]
  },
  {
   "cell_type": "code",
   "execution_count": null,
   "metadata": {
    "colab": {
     "base_uri": "https://localhost:8080/",
     "height": 513
    },
    "id": "ndFUJrRDq6Bk",
    "outputId": "931bcd8b-4ba4-45c8-94f7-758b4a0916e2"
   },
   "outputs": [],
   "source": [
    "plot_3D_cube(data=facies_pred, color_map='facies', number_of_facies=4, number_of_wells=7)"
   ]
  },
  {
   "cell_type": "code",
   "execution_count": null,
   "metadata": {
    "colab": {
     "base_uri": "https://localhost:8080/",
     "height": 657
    },
    "id": "DITogznNq6Bk",
    "outputId": "f5823044-da1e-49af-9e70-8075731f41c6"
   },
   "outputs": [],
   "source": [
    "def confusion_matrix_3D(facies_pred, df_facies_comparison, model):\n",
    "\n",
    "    from sklearn.metrics import f1_score\n",
    "    from sklearn.metrics import precision_recall_fscore_support\n",
    "    from sklearn import metrics\n",
    "    from sklearn.metrics import classification_report\n",
    "    from sklearn.metrics import confusion_matrix, classification_report, accuracy_score\n",
    "    from sklearn.metrics._plot.confusion_matrix import ConfusionMatrixDisplay\n",
    "\n",
    "    actual_f = df_facies_comparison[~(np.isnan(df_facies_comparison))]\n",
    "    predicted_f = facies_pred[~(np.isnan(facies_pred))]\n",
    "\n",
    "    conf_matrix = metrics.confusion_matrix(actual_f, predicted_f)\n",
    "    conf_matrix\n",
    "\n",
    "    f1_score_per_class = f1_score(actual_f, predicted_f, average=None)\n",
    "    accuracy_estimation = accuracy_score(actual_f, predicted_f)\n",
    "\n",
    "    report_print = print(classification_report(actual_f, predicted_f))\n",
    "\n",
    "    # Extract number of values of each class\n",
    "    count_facies = np.unique(actual_f, return_counts=True)[1]\n",
    "\n",
    "    # Plot confusion matrix\n",
    "    display_conf_matrix = ConfusionMatrixDisplay(confusion_matrix=conf_matrix, display_labels=model.classes_)\n",
    "    display_conf_matrix.plot()\n",
    "    plt.show()\n",
    "\n",
    "    return report_print, f1_score_per_class, count_facies, accuracy_estimation\n",
    "report_print_LR, f1_score_per_class_LR, count_facies, accuracy_test_LR = confusion_matrix_3D(facies_pred,\n",
    "                                                                                                df_facies_comparison,\n",
    "                                                                                                model_LR)"
   ]
  },
  {
   "cell_type": "code",
   "execution_count": null,
   "metadata": {
    "colab": {
     "base_uri": "https://localhost:8080/"
    },
    "id": "5GIU3GO9HchQ",
    "outputId": "54da551d-f23e-4368-ca20-94e12d06a74c"
   },
   "outputs": [],
   "source": [
    "accuracy_test_LR"
   ]
  },
  {
   "cell_type": "code",
   "execution_count": null,
   "metadata": {
    "colab": {
     "base_uri": "https://localhost:8080/",
     "height": 666
    },
    "id": "KGl8HfCxq6Bk",
    "outputId": "50b1219d-6f3e-4375-ef26-272d72d42988"
   },
   "outputs": [],
   "source": [
    "difference_map_3D(df_facies_comparison, facies_pred, number_of_wells=7)"
   ]
  },
  {
   "cell_type": "markdown",
   "metadata": {
    "id": "5PfJ0qsOq6Bp"
   },
   "source": [
    "## Plot 2d section of the 3D cube"
   ]
  },
  {
   "cell_type": "code",
   "execution_count": null,
   "metadata": {
    "colab": {
     "base_uri": "https://localhost:8080/"
    },
    "id": "eQomUSSKq6Bp",
    "outputId": "7b9378d7-ae8c-47d2-f5ee-c83015f29760"
   },
   "outputs": [],
   "source": [
    "facies_pred_RF = facies_pred\n",
    "facies_pred_RF.shape"
   ]
  },
  {
   "cell_type": "code",
   "execution_count": null,
   "metadata": {
    "colab": {
     "base_uri": "https://localhost:8080/"
    },
    "id": "SzQQqVOEq6Bp",
    "outputId": "251ef37f-4b7c-41fb-965b-9841cf049ca9"
   },
   "outputs": [],
   "source": [
    "df_facies_comparison_RF = df_facies_comparison\n",
    "df_facies_comparison_RF.shape"
   ]
  },
  {
   "cell_type": "code",
   "execution_count": null,
   "metadata": {
    "colab": {
     "base_uri": "https://localhost:8080/"
    },
    "id": "WzhCgoi7q6Bp",
    "outputId": "1bb34df6-5f99-4e8f-f92e-d2bdb52df86b"
   },
   "outputs": [],
   "source": [
    "facies_pred_RF[1].shape"
   ]
  },
  {
   "cell_type": "code",
   "execution_count": null,
   "metadata": {
    "colab": {
     "base_uri": "https://localhost:8080/"
    },
    "id": "tQTNe3iyq6Bp",
    "outputId": "8ed8a6f2-b5ce-4b23-fa16-8b352a7459a5"
   },
   "outputs": [],
   "source": [
    "facies_pred_RF_2D = facies_pred_RF[35, :, :]\n",
    "facies_pred_RF_2D.shape"
   ]
  },
  {
   "cell_type": "code",
   "execution_count": null,
   "metadata": {
    "colab": {
     "base_uri": "https://localhost:8080/"
    },
    "id": "1FBcfJtFq6Bq",
    "outputId": "44ac17c3-67f6-4106-fdc7-2001ef9e5046"
   },
   "outputs": [],
   "source": [
    "df_facies_comparison_RF_2D = df_facies_comparison_RF[35, :, :]\n",
    "df_facies_comparison_RF_2D.shape"
   ]
  },
  {
   "cell_type": "code",
   "execution_count": null,
   "metadata": {
    "id": "E-91iO1Vq6Bq"
   },
   "outputs": [],
   "source": [
    "extent_plot = [0, 65, 0, 700]"
   ]
  },
  {
   "cell_type": "code",
   "execution_count": null,
   "metadata": {},
   "outputs": [],
   "source": [
    "def difference_map(df_facies_comparison, facies_predicted, extent, list_of_wells=None):\n",
    "    \"\"\" Function to plot difference map between the ground-truth and predicted facies.\n",
    "\n",
    "    Args:\n",
    "        df_facies_comparison (2D array): ground truth facies\n",
    "        facies_predicted (2D array): predicted facies from ML models\n",
    "        extent (list): List with depth and trace numbers for the plots\n",
    "        list_of_wells (list): the list with wells location. Defaults to None.\n",
    "\n",
    "    Returns:\n",
    "        nothing\n",
    "\n",
    "    \"\"\"\n",
    "\n",
    "\n",
    "    import matplotlib.pyplot as plt\n",
    "    import matplotlib.colors\n",
    "\n",
    "    fig = plt.figure(figsize=(10, 4))\n",
    "    ax = fig.add_subplot(1, 1, 1)\n",
    "\n",
    "    extent = extent # define extent\n",
    "    # The difference\n",
    "    np_facies_fact = df_facies_comparison\n",
    "    np_facies_predicted = facies_predicted\n",
    "\n",
    "    facies_difference = np.subtract(np_facies_fact, np_facies_predicted)\n",
    "\n",
    "    df1 = pd.DataFrame(facies_difference)\n",
    "    df1 = df1.apply(np.sign).replace({-4:1, -3:1, -2:1, -1:1, 0:0,\n",
    "                                1:1, 2:1, 3:1, 4:1\n",
    "                                })\n",
    "    facies_difference_result = np.array(df1)\n",
    "\n",
    "\n",
    "\n",
    "    cmap = matplotlib.colors.ListedColormap(['green', 'red'])\n",
    "    im = ax.imshow(facies_difference_result, cmap=cmap, vmin=0, vmax=1, aspect='auto', extent=extent)\n",
    "\n",
    "    if list_of_wells==None:\n",
    "        pass\n",
    "    else:\n",
    "        for well in list_of_wells:\n",
    "            ax.axvline(x = well, linewidth = 1, color ='black')\n",
    "\n",
    "    ax.set_xlabel('trace number', fontsize=14)\n",
    "    ax.set_ylabel('TWT [ms]', fontsize=14)\n",
    "    ax.set_title('Difference map', fontsize=16)\n",
    "    colormap1 = fig.axes[0]\n",
    "    colormap1.tick_params(labelsize=12)\n",
    "    plt.colorbar(im, ticks=[True, False])\n",
    "    plt.legend()\n",
    "    plt.show()"
   ]
  },
  {
   "cell_type": "code",
   "execution_count": null,
   "metadata": {
    "colab": {
     "base_uri": "https://localhost:8080/",
     "height": 438
    },
    "id": "EyETZmRYq6Bq",
    "outputId": "c4acea19-0cbe-44f8-d748-f077553b162b"
   },
   "outputs": [],
   "source": [
    "difference_map(df_facies_comparison_RF_2D.T, facies_pred_RF_2D.T, extent_plot, list_of_wells=None)"
   ]
  },
  {
   "cell_type": "code",
   "execution_count": null,
   "metadata": {
    "id": "mwAfvQCOq6Bq"
   },
   "outputs": [],
   "source": []
  },
  {
   "cell_type": "code",
   "execution_count": null,
   "metadata": {
    "colab": {
     "base_uri": "https://localhost:8080/"
    },
    "id": "s347-dkuq6Bq",
    "outputId": "acf8cbc1-14ab-40a2-c3b8-53cade86f756"
   },
   "outputs": [],
   "source": [
    "facies_pred_RF_2D_1 = facies_pred_RF[5, :, :]\n",
    "facies_pred_RF_2D_1.shape"
   ]
  },
  {
   "cell_type": "code",
   "execution_count": null,
   "metadata": {
    "colab": {
     "base_uri": "https://localhost:8080/"
    },
    "id": "pKcqvc9oq6Bq",
    "outputId": "a037f1ed-2151-4d77-ceb7-07504d64373b"
   },
   "outputs": [],
   "source": [
    "df_facies_comparison_RF_2D_1 = df_facies_comparison_RF[5, :, :]\n",
    "df_facies_comparison_RF_2D_1.shape"
   ]
  },
  {
   "cell_type": "code",
   "execution_count": null,
   "metadata": {
    "id": "v-hgxYPLq6Bq"
   },
   "outputs": [],
   "source": [
    "extent_plot = [0, 65, 0, 700]"
   ]
  },
  {
   "cell_type": "code",
   "execution_count": null,
   "metadata": {
    "colab": {
     "base_uri": "https://localhost:8080/",
     "height": 438
    },
    "id": "f6qtry7Bq6Br",
    "outputId": "715730bc-c405-491f-e766-1e086bc5bcbe"
   },
   "outputs": [],
   "source": [
    "difference_map(df_facies_comparison_RF_2D_1.T, facies_pred_RF_2D_1.T, extent_plot, list_of_wells=None)"
   ]
  },
  {
   "cell_type": "markdown",
   "metadata": {
    "id": "cAiSIwZNq6Br"
   },
   "source": [
    "# Deep Learning model"
   ]
  },
  {
   "cell_type": "code",
   "execution_count": null,
   "metadata": {
    "id": "P664qEOHq6Br"
   },
   "outputs": [],
   "source": [
    "import tensorflow as tf\n",
    "from tensorflow import keras\n",
    "from sklearn.model_selection import train_test_split"
   ]
  },
  {
   "cell_type": "code",
   "execution_count": null,
   "metadata": {
    "id": "MPYrRHATq6Br"
   },
   "outputs": [],
   "source": [
    "from tensorflow.keras.models import Sequential\n",
    "from tensorflow.keras.layers import Activation, Dense"
   ]
  },
  {
   "cell_type": "code",
   "execution_count": null,
   "metadata": {
    "id": "uNmDpkV2q6Br"
   },
   "outputs": [],
   "source": [
    "from tensorflow.keras.layers import BatchNormalization, Dropout\n",
    "from tensorflow.keras import optimizers"
   ]
  },
  {
   "cell_type": "code",
   "execution_count": null,
   "metadata": {
    "id": "U428wVHvq6Bs"
   },
   "outputs": [],
   "source": [
    "from tensorflow.keras.layers import InputLayer"
   ]
  },
  {
   "cell_type": "code",
   "execution_count": null,
   "metadata": {
    "colab": {
     "base_uri": "https://localhost:8080/",
     "height": 424
    },
    "id": "dJmL-R_Mq6Bs",
    "outputId": "94578f86-7587-405d-b06b-b79b239a7100"
   },
   "outputs": [],
   "source": [
    "facies_and_features_NN = facies_and_features[['facies', 'relai', 'seis', 'envel', 'inst_freq', 'seis_inv']]\n",
    "facies_and_features_NN"
   ]
  },
  {
   "cell_type": "code",
   "execution_count": null,
   "metadata": {
    "id": "tXhF8Gldq6Bs"
   },
   "outputs": [],
   "source": [
    "tf.random.set_seed(123)\n",
    "tf.debugging.set_log_device_placement(False)"
   ]
  },
  {
   "cell_type": "markdown",
   "metadata": {
    "id": "yjaIkM2hq6Bs"
   },
   "source": [
    "## Split the data in train, test and validation sets"
   ]
  },
  {
   "cell_type": "code",
   "execution_count": null,
   "metadata": {
    "colab": {
     "base_uri": "https://localhost:8080/",
     "height": 206
    },
    "id": "ayWIE4yvq6Bs",
    "outputId": "c8a36853-e942-4b0b-c2f5-1b73cd251d23"
   },
   "outputs": [],
   "source": [
    "facies_and_features_mixed = facies_and_features_NN.sample(frac=1) # shuffle the rows\n",
    "facies_and_features_mixed.head(5)"
   ]
  },
  {
   "cell_type": "code",
   "execution_count": null,
   "metadata": {
    "colab": {
     "base_uri": "https://localhost:8080/"
    },
    "id": "MfbvNYI4q6Bs",
    "outputId": "28e802b2-33a9-4d1e-a6ae-13fe780d18c3"
   },
   "outputs": [],
   "source": [
    "train_set, test_val_set = train_test_split(facies_and_features_mixed, test_size=0.4)\n",
    "\n",
    "print(train_set.shape)\n",
    "print(test_val_set.shape)"
   ]
  },
  {
   "cell_type": "markdown",
   "metadata": {},
   "source": [
    "Split test_val_set on test and validation sets"
   ]
  },
  {
   "cell_type": "code",
   "execution_count": null,
   "metadata": {
    "colab": {
     "base_uri": "https://localhost:8080/"
    },
    "id": "t0Bclm7lq6Bs",
    "outputId": "c7444559-6394-466b-dd7f-1f7039f743de"
   },
   "outputs": [],
   "source": [
    "test_set, val_set = train_test_split(test_val_set, test_size=0.5)\n",
    "print(test_set.shape)\n",
    "print(val_set.shape)"
   ]
  },
  {
   "cell_type": "markdown",
   "metadata": {},
   "source": [
    "Drop the facies column"
   ]
  },
  {
   "cell_type": "code",
   "execution_count": null,
   "metadata": {
    "id": "DtsjRGjzq6Bt"
   },
   "outputs": [],
   "source": [
    "train_labels1 = train_set.pop('facies')\n",
    "test_labels1 = test_set.pop('facies')\n",
    "valid_labels1 = val_set.pop('facies')"
   ]
  },
  {
   "cell_type": "code",
   "execution_count": null,
   "metadata": {
    "id": "auwaMINaq6Bt"
   },
   "outputs": [],
   "source": [
    "train_labels2 = train_labels1.astype(np.uint8)\n",
    "train_labels2\n",
    "\n",
    "valid_labels2 = valid_labels1.astype(np.uint8)\n",
    "test_labels2 = test_labels1.astype(np.uint8)"
   ]
  },
  {
   "cell_type": "markdown",
   "metadata": {},
   "source": [
    "Encode the labeles"
   ]
  },
  {
   "cell_type": "code",
   "execution_count": null,
   "metadata": {
    "id": "up3kXfnIq6Bt"
   },
   "outputs": [],
   "source": [
    "train_labels = pd.get_dummies(train_labels1, prefix='Label')\n",
    "val_labels = pd.get_dummies(valid_labels1, prefix='Label')\n",
    "test_labels = pd.get_dummies(test_labels1, prefix='Label')"
   ]
  },
  {
   "cell_type": "code",
   "execution_count": null,
   "metadata": {
    "colab": {
     "base_uri": "https://localhost:8080/"
    },
    "id": "YuoNb_SYq6Bt",
    "outputId": "f792191c-e1a9-4dbf-baa3-3eeeb96dc2f5"
   },
   "outputs": [],
   "source": [
    "train_labels.info()"
   ]
  },
  {
   "cell_type": "markdown",
   "metadata": {
    "id": "cLNfpDmnq6Bt"
   },
   "source": [
    "The data is already standartized"
   ]
  },
  {
   "cell_type": "markdown",
   "metadata": {
    "id": "aA7cOiX9q6Bu"
   },
   "source": [
    "## Define the NN architecture"
   ]
  },
  {
   "cell_type": "code",
   "execution_count": null,
   "metadata": {
    "colab": {
     "base_uri": "https://localhost:8080/"
    },
    "id": "VBe0pddeq6Bu",
    "outputId": "d05832cd-ea36-4273-c8e5-c127b932a8fb"
   },
   "outputs": [],
   "source": [
    "from keras.models import Sequential\n",
    "from keras.layers import Dense, Dropout, BatchNormalization, LeakyReLU, Activation\n",
    "from keras import optimizers, regularizers\n",
    "from keras.callbacks import LearningRateScheduler\n",
    "import math\n",
    "\n",
    "\n",
    "\n",
    "def NN_model_advanced(train_set_shape):\n",
    "    model = Sequential()\n",
    "\n",
    "    # Input Layer\n",
    "    model.add(Dense(128, input_shape=(train_set_shape,), kernel_regularizer=regularizers.l2(0.01)))\n",
    "    model.add(BatchNormalization())\n",
    "    model.add(LeakyReLU())\n",
    "    model.add(Dropout(0.5))\n",
    "\n",
    "    # Hidden Layer 1\n",
    "    model.add(Dense(256, kernel_regularizer=regularizers.l2(0.01)))\n",
    "    model.add(BatchNormalization())\n",
    "    model.add(LeakyReLU())\n",
    "    model.add(Dropout(0.5))\n",
    "\n",
    "    # Hidden Layer 2\n",
    "    model.add(Dense(128, kernel_regularizer=regularizers.l2(0.01)))\n",
    "    model.add(BatchNormalization())\n",
    "    model.add(LeakyReLU())\n",
    "    model.add(Dropout(0.5))\n",
    "\n",
    "    # Hidden Layer 3\n",
    "    model.add(Dense(64, kernel_regularizer=regularizers.l2(0.01)))\n",
    "    model.add(BatchNormalization())\n",
    "    model.add(Activation('elu'))\n",
    "    model.add(Dropout(0.5))\n",
    "\n",
    "    # Output Layer\n",
    "    model.add(Dense(5, activation='softmax'))\n",
    "\n",
    "    optimizer = optimizers.Adamax(lr=0.0)  # initial learning rate will be set by LearningRateScheduler\n",
    "    model.compile(loss='categorical_crossentropy',\n",
    "                  optimizer=optimizer,\n",
    "                  metrics=['accuracy'])\n",
    "\n",
    "    return model\n",
    "\n",
    "\n",
    "\n",
    "\n",
    "\n",
    "Epochs = 500\n",
    "Batch_size = 150\n",
    "\n",
    "model = NN_model_advanced(train_set.shape[1])\n",
    "print('Here is a summary of this model: ')\n",
    "model.summary()\n",
    "\n",
    "with tf.device('/CPU:0'):\n",
    "    history = model.fit(\n",
    "        train_set,\n",
    "        train_labels,\n",
    "        batch_size=Batch_size,\n",
    "        epochs=Epochs,\n",
    "        verbose=1,\n",
    "        shuffle=True,\n",
    "        steps_per_epoch = int(train_set.shape[0]/Batch_size),\n",
    "        validation_data = (val_set, val_labels))\n",
    "\n"
   ]
  },
  {
   "cell_type": "code",
   "execution_count": null,
   "metadata": {
    "colab": {
     "base_uri": "https://localhost:8080/",
     "height": 380
    },
    "id": "AkXcVivaq6Bu",
    "outputId": "d6f126c4-67c8-4e8a-9c78-dc7295208ddf"
   },
   "outputs": [],
   "source": [
    "print('summary of the results after each epoch: ')\n",
    "hist_res = pd.DataFrame(history.history)\n",
    "hist_res['epoch'] = history.epoch\n",
    "hist_res.tail(10)"
   ]
  },
  {
   "cell_type": "markdown",
   "metadata": {
    "id": "l-WyW3Kzq6Bu"
   },
   "source": [
    "## Inspect the accuracy on the training set"
   ]
  },
  {
   "cell_type": "code",
   "execution_count": null,
   "metadata": {
    "colab": {
     "base_uri": "https://localhost:8080/",
     "height": 472
    },
    "id": "1XoC2e4Pq6Bu",
    "outputId": "acf027e0-63b5-4fca-ef55-6897ef84ec45"
   },
   "outputs": [],
   "source": [
    "plt.plot(history.history['accuracy'])\n",
    "plt.plot(history.history['val_accuracy'])\n",
    "plt.title('model accuracy')\n",
    "plt.ylabel('accuracy')\n",
    "plt.xlabel('epoch')\n",
    "plt.legend(['Train', 'Cross-Validation'], loc='lower right')\n",
    "plt.show()"
   ]
  },
  {
   "cell_type": "code",
   "execution_count": null,
   "metadata": {
    "colab": {
     "base_uri": "https://localhost:8080/",
     "height": 472
    },
    "id": "8pa4mu3cq6Bu",
    "outputId": "4487c94e-4246-4ed7-b9cf-a896a6951169"
   },
   "outputs": [],
   "source": [
    "plt.plot(history.history['loss'])\n",
    "plt.plot(history.history['val_loss'])\n",
    "plt.title('Model loss')\n",
    "plt.ylabel('Loss')\n",
    "plt.xlabel('epoch')\n",
    "plt.legend(['Train', 'Cross-Validation'], loc='upper right')\n",
    "plt.show()"
   ]
  },
  {
   "cell_type": "code",
   "execution_count": null,
   "metadata": {
    "colab": {
     "base_uri": "https://localhost:8080/"
    },
    "id": "EAUL4SIuq6Bv",
    "outputId": "4ad63b1e-e167-45f9-9e86-d22bfd137fd7"
   },
   "outputs": [],
   "source": [
    "nn_test_prob = model.predict(test_set)\n",
    "nn_test_prob.shape"
   ]
  },
  {
   "cell_type": "code",
   "execution_count": null,
   "metadata": {
    "colab": {
     "base_uri": "https://localhost:8080/"
    },
    "id": "VqRODwGSq6Bv",
    "outputId": "3c8edfc2-caab-43a9-d175-a00e32678b69"
   },
   "outputs": [],
   "source": [
    "nn_test_prob"
   ]
  },
  {
   "cell_type": "code",
   "execution_count": null,
   "metadata": {
    "colab": {
     "base_uri": "https://localhost:8080/"
    },
    "id": "6C7NZWGMq6Bv",
    "outputId": "ae346386-ed71-42ea-8285-29e596d4292a"
   },
   "outputs": [],
   "source": [
    "test_nn2 = np.array(pd.DataFrame(nn_test_prob).idxmax(axis=1))\n",
    "test_nn2.shape"
   ]
  },
  {
   "cell_type": "code",
   "execution_count": null,
   "metadata": {
    "id": "hnjts6Srq6Bv"
   },
   "outputs": [],
   "source": [
    "dfg = test_nn2.reshape(test_nn2.shape[0], -1)"
   ]
  },
  {
   "cell_type": "code",
   "execution_count": null,
   "metadata": {
    "colab": {
     "base_uri": "https://localhost:8080/"
    },
    "id": "7sdB5MOmq6Bv",
    "outputId": "e3740c74-709b-4263-a78b-9ef2f41bcd42"
   },
   "outputs": [],
   "source": [
    "dfg.shape"
   ]
  },
  {
   "cell_type": "code",
   "execution_count": null,
   "metadata": {
    "colab": {
     "base_uri": "https://localhost:8080/"
    },
    "id": "SjP3i5hCq6Bv",
    "outputId": "ad9da4d8-176d-4098-bb9c-c6ce9a26e709"
   },
   "outputs": [],
   "source": [
    "print(confusion_matrix(test_labels1, test_nn2))\n",
    "print(accuracy_score(test_labels1, test_nn2))\n",
    "print(classification_report(test_labels1, test_nn2))"
   ]
  },
  {
   "cell_type": "markdown",
   "metadata": {
    "id": "P6EMZvW3q6Bw"
   },
   "source": [
    "## Predict the facies section"
   ]
  },
  {
   "cell_type": "code",
   "execution_count": null,
   "metadata": {
    "id": "bZOHMTqMq6Bw"
   },
   "outputs": [],
   "source": [
    "def predict_facies_3D_NN(facies, relai_std, seis_std, envel_std, inst_freq_std, seis_inv_std, model):\n",
    "    r, c, b = np.shape(facies)\n",
    "\n",
    "    map_facies = np.zeros((r, c, b))\n",
    "    map_facies[:] = np.NaN\n",
    "    map_facies_1 = map_facies.copy()\n",
    "    df_f_comparison = map_facies.copy()\n",
    "\n",
    "    map_facies_encoded = np.zeros((b, 5))\n",
    "    map_facies_encoded[:] = np.NaN\n",
    "    facies_encoded = map_facies_encoded.copy()\n",
    "\n",
    "    # for every trace (column)\n",
    "    for every_x in range(facies.shape[0]):\n",
    "        for every_y in range(facies.shape[1]):\n",
    "\n",
    "            new_df = pd.concat(\n",
    "                        [pd.DataFrame(relai_std[every_x, every_y]),\n",
    "                        pd.DataFrame(seis_std[every_x, every_y]),\n",
    "                        pd.DataFrame(envel_std[every_x, every_y]),\n",
    "                        pd.DataFrame(inst_freq_std[every_x, every_y]),\n",
    "                        pd.DataFrame(seis_inv_std[every_x, every_y])]\n",
    "                        , axis=1)\n",
    "\n",
    "    ##########################################################################\n",
    "            new_features = new_df.dropna(axis=0)\n",
    "\n",
    "            #new_features = new_df\n",
    "            non_empty_facies = pd.DataFrame(facies[every_x, every_y, :]).dropna(axis=0)\n",
    "\n",
    "            facies_encoded[new_features.index, :] = model.predict(new_features)\n",
    "            facies_encoded_nn = np.array(pd.DataFrame(facies_encoded).idxmax(axis=1))\n",
    "            facies_encoded_nn_1 = facies_encoded_nn.reshape(facies_encoded_nn.shape[0], -1)\n",
    "\n",
    "\n",
    "\n",
    "            # map_facies[every_x, every_y, new_features.index] = model.predict(new_features)\n",
    "\n",
    "\n",
    "            # Filter\n",
    "            map_facies_1[every_x, every_y, non_empty_facies.index] = facies_encoded_nn[non_empty_facies.index]\n",
    "            df_f_comparison[every_x, every_y, new_features.index] = facies[every_x, every_y, new_features.index]\n",
    "\n",
    "    return map_facies_1, df_f_comparison"
   ]
  },
  {
   "cell_type": "code",
   "execution_count": null,
   "metadata": {
    "colab": {
     "base_uri": "https://localhost:8080/"
    },
    "id": "CBBeEclBq6Bz",
    "outputId": "c2e43c33-6cde-45da-d67f-9df4b5c6a8da",
    "scrolled": true
   },
   "outputs": [],
   "source": [
    "facies_pred, df_facies_comparison = predict_facies_3D_NN(facies, relai_std, seis_std, envel_std, inst_freq_std, seis_inv_std, model)"
   ]
  },
  {
   "cell_type": "code",
   "execution_count": null,
   "metadata": {
    "id": "fjMHCjUIq6Bz",
    "outputId": "7cb5c8a0-e298-4ed7-b877-aa1f97973faa"
   },
   "outputs": [],
   "source": [
    "plot_3D_cube(data=facies_pred, color_map='facies', number_of_facies=4, number_of_wells=7)"
   ]
  },
  {
   "cell_type": "code",
   "execution_count": null,
   "metadata": {
    "id": "pX7M-Mesq6Bz",
    "outputId": "52370fcc-d3df-40a3-a36d-b0356f2d479a"
   },
   "outputs": [],
   "source": [
    "difference_map_3D(df_facies_comparison, facies_pred, number_of_wells=7)"
   ]
  },
  {
   "cell_type": "code",
   "execution_count": null,
   "metadata": {},
   "outputs": [],
   "source": []
  }
 ],
 "metadata": {
  "colab": {
   "provenance": []
  },
  "kernelspec": {
   "display_name": "Python 3 (ipykernel)",
   "language": "python",
   "name": "python3"
  },
  "language_info": {
   "codemirror_mode": {
    "name": "ipython",
    "version": 3
   },
   "file_extension": ".py",
   "mimetype": "text/x-python",
   "name": "python",
   "nbconvert_exporter": "python",
   "pygments_lexer": "ipython3",
   "version": "3.10.10"
  },
  "vscode": {
   "interpreter": {
    "hash": "92e93cc2f5a39c02906793a582959d6c38a6cfa253cfb1ea38d0a7d24b2bc82e"
   }
  }
 },
 "nbformat": 4,
 "nbformat_minor": 4
}
