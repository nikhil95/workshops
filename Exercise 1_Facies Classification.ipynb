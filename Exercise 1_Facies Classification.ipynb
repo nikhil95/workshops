{
 "cells": [
  {
   "cell_type": "markdown",
   "metadata": {
    "id": "pDultjMLQRGT"
   },
   "source": [
    "# Import necessary Python libraries"
   ]
  },
  {
   "cell_type": "code",
   "execution_count": 2,
   "metadata": {},
   "outputs": [
    {
     "name": "stdout",
     "output_type": "stream",
     "text": [
      "Defaulting to user installation because normal site-packages is not writeable\n",
      "Collecting xgboost\n",
      "  Downloading xgboost-2.0.1-py3-none-manylinux2014_x86_64.whl.metadata (2.0 kB)\n",
      "Requirement already satisfied: numpy in ./.local/lib/python3.10/site-packages (from xgboost) (1.23.5)\n",
      "Requirement already satisfied: scipy in ./.local/lib/python3.10/site-packages (from xgboost) (1.11.3)\n",
      "Downloading xgboost-2.0.1-py3-none-manylinux2014_x86_64.whl (297.1 MB)\n",
      "\u001b[2K   \u001b[90m━━━━━━━━━━━━━━━━━━━━━━━━━━━━━━━━━━━━━━━━\u001b[0m \u001b[32m297.1/297.1 MB\u001b[0m \u001b[31m2.9 MB/s\u001b[0m eta \u001b[36m0:00:00\u001b[0m:00:01\u001b[0m00:01\u001b[0m\n",
      "\u001b[?25hInstalling collected packages: xgboost\n",
      "Successfully installed xgboost-2.0.1\n",
      "Note: you may need to restart the kernel to use updated packages.\n"
     ]
    }
   ],
   "source": [
    "pip install xgboost"
   ]
  },
  {
   "cell_type": "code",
   "execution_count": 3,
   "metadata": {
    "id": "U4wK_1Sp5oZz"
   },
   "outputs": [],
   "source": [
    "import pandas as pd\n",
    "import numpy as np\n",
    "import numpy.random as nr\n",
    "import matplotlib\n",
    "import xgboost as xgb\n",
    "import matplotlib.pyplot as plt\n",
    "import sklearn\n",
    "from sklearn.linear_model import LogisticRegression\n",
    "from xgboost import XGBClassifier\n",
    "from sklearn import preprocessing\n",
    "import sklearn.model_selection as ms\n",
    "from sklearn.model_selection import StratifiedKFold\n",
    "from sklearn.metrics import accuracy_score, f1_score"
   ]
  },
  {
   "cell_type": "markdown",
   "metadata": {
    "id": "jufY6EwkRKUX"
   },
   "source": [
    "# Data Import\n"
   ]
  },
  {
   "cell_type": "code",
   "execution_count": 5,
   "metadata": {
    "id": "boxKPJy4QohL"
   },
   "outputs": [],
   "source": [
    "A = np.load('/data/penalty_matrix.npy')\n",
    "\n",
    "train = pd.read_csv('/data/CSV_train.csv', sep=';')\n",
    "\n",
    "test = pd.read_csv('/data/CSV_test.csv', sep=';')"
   ]
  },
  {
   "cell_type": "code",
   "execution_count": 6,
   "metadata": {
    "colab": {
     "base_uri": "https://localhost:8080/",
     "height": 586
    },
    "id": "m81k7kmiRyV2",
    "outputId": "29d6083a-6b0d-4169-a32f-2c718197d609"
   },
   "outputs": [
    {
     "data": {
      "text/html": [
       "<div>\n",
       "<style scoped>\n",
       "    .dataframe tbody tr th:only-of-type {\n",
       "        vertical-align: middle;\n",
       "    }\n",
       "\n",
       "    .dataframe tbody tr th {\n",
       "        vertical-align: top;\n",
       "    }\n",
       "\n",
       "    .dataframe thead th {\n",
       "        text-align: right;\n",
       "    }\n",
       "</style>\n",
       "<table border=\"1\" class=\"dataframe\">\n",
       "  <thead>\n",
       "    <tr style=\"text-align: right;\">\n",
       "      <th></th>\n",
       "      <th>WELL</th>\n",
       "      <th>DEPTH_MD</th>\n",
       "      <th>X_LOC</th>\n",
       "      <th>Y_LOC</th>\n",
       "      <th>Z_LOC</th>\n",
       "      <th>GROUP</th>\n",
       "      <th>FORMATION</th>\n",
       "      <th>CALI</th>\n",
       "      <th>RSHA</th>\n",
       "      <th>RMED</th>\n",
       "      <th>...</th>\n",
       "      <th>ROP</th>\n",
       "      <th>DTS</th>\n",
       "      <th>DCAL</th>\n",
       "      <th>DRHO</th>\n",
       "      <th>MUDWEIGHT</th>\n",
       "      <th>RMIC</th>\n",
       "      <th>ROPA</th>\n",
       "      <th>RXO</th>\n",
       "      <th>FORCE_2020_LITHOFACIES_LITHOLOGY</th>\n",
       "      <th>FORCE_2020_LITHOFACIES_CONFIDENCE</th>\n",
       "    </tr>\n",
       "  </thead>\n",
       "  <tbody>\n",
       "    <tr>\n",
       "      <th>358807</th>\n",
       "      <td>25/5-4</td>\n",
       "      <td>2410.864305</td>\n",
       "      <td>470379.37500</td>\n",
       "      <td>6608141.5</td>\n",
       "      <td>-2385.303711</td>\n",
       "      <td>ROGALAND GP.</td>\n",
       "      <td>Vaale Fm.</td>\n",
       "      <td>13.426253</td>\n",
       "      <td>NaN</td>\n",
       "      <td>1.289138</td>\n",
       "      <td>...</td>\n",
       "      <td>NaN</td>\n",
       "      <td>NaN</td>\n",
       "      <td>1.176252</td>\n",
       "      <td>0.130643</td>\n",
       "      <td>NaN</td>\n",
       "      <td>NaN</td>\n",
       "      <td>NaN</td>\n",
       "      <td>-999.900024</td>\n",
       "      <td>65000</td>\n",
       "      <td>1.0</td>\n",
       "    </tr>\n",
       "    <tr>\n",
       "      <th>211830</th>\n",
       "      <td>25/11-15</td>\n",
       "      <td>1651.151700</td>\n",
       "      <td>470523.37500</td>\n",
       "      <td>6560848.5</td>\n",
       "      <td>-1627.499878</td>\n",
       "      <td>HORDALAND GP.</td>\n",
       "      <td>Grid Fm.</td>\n",
       "      <td>9.268112</td>\n",
       "      <td>0.464316</td>\n",
       "      <td>0.580647</td>\n",
       "      <td>...</td>\n",
       "      <td>20.407717</td>\n",
       "      <td>NaN</td>\n",
       "      <td>NaN</td>\n",
       "      <td>-0.092030</td>\n",
       "      <td>0.135404</td>\n",
       "      <td>NaN</td>\n",
       "      <td>NaN</td>\n",
       "      <td>NaN</td>\n",
       "      <td>65000</td>\n",
       "      <td>1.0</td>\n",
       "    </tr>\n",
       "    <tr>\n",
       "      <th>354236</th>\n",
       "      <td>25/5-4</td>\n",
       "      <td>1716.072305</td>\n",
       "      <td>470379.62500</td>\n",
       "      <td>6608159.5</td>\n",
       "      <td>-1690.781006</td>\n",
       "      <td>HORDALAND GP.</td>\n",
       "      <td>Grid Fm.</td>\n",
       "      <td>13.923372</td>\n",
       "      <td>NaN</td>\n",
       "      <td>0.874792</td>\n",
       "      <td>...</td>\n",
       "      <td>NaN</td>\n",
       "      <td>NaN</td>\n",
       "      <td>1.673372</td>\n",
       "      <td>0.051722</td>\n",
       "      <td>NaN</td>\n",
       "      <td>NaN</td>\n",
       "      <td>NaN</td>\n",
       "      <td>-999.900024</td>\n",
       "      <td>65000</td>\n",
       "      <td>1.0</td>\n",
       "    </tr>\n",
       "    <tr>\n",
       "      <th>693541</th>\n",
       "      <td>31/6-8</td>\n",
       "      <td>1944.668434</td>\n",
       "      <td>537151.93750</td>\n",
       "      <td>6713675.0</td>\n",
       "      <td>-1919.587524</td>\n",
       "      <td>VIKING GP.</td>\n",
       "      <td>Krossfjord Fm.</td>\n",
       "      <td>8.287967</td>\n",
       "      <td>NaN</td>\n",
       "      <td>0.460192</td>\n",
       "      <td>...</td>\n",
       "      <td>NaN</td>\n",
       "      <td>NaN</td>\n",
       "      <td>NaN</td>\n",
       "      <td>-0.008555</td>\n",
       "      <td>NaN</td>\n",
       "      <td>NaN</td>\n",
       "      <td>NaN</td>\n",
       "      <td>NaN</td>\n",
       "      <td>30000</td>\n",
       "      <td>1.0</td>\n",
       "    </tr>\n",
       "    <tr>\n",
       "      <th>417603</th>\n",
       "      <td>25/8-5 S</td>\n",
       "      <td>2498.686400</td>\n",
       "      <td>464012.00000</td>\n",
       "      <td>6590896.0</td>\n",
       "      <td>-2346.968262</td>\n",
       "      <td>ROGALAND GP.</td>\n",
       "      <td>Lista Fm.</td>\n",
       "      <td>8.287407</td>\n",
       "      <td>1.180006</td>\n",
       "      <td>1.178047</td>\n",
       "      <td>...</td>\n",
       "      <td>11.956285</td>\n",
       "      <td>NaN</td>\n",
       "      <td>-0.212593</td>\n",
       "      <td>0.041013</td>\n",
       "      <td>1.222229</td>\n",
       "      <td>NaN</td>\n",
       "      <td>NaN</td>\n",
       "      <td>1.190629</td>\n",
       "      <td>65000</td>\n",
       "      <td>1.0</td>\n",
       "    </tr>\n",
       "    <tr>\n",
       "      <th>928576</th>\n",
       "      <td>34/8-1</td>\n",
       "      <td>1557.049023</td>\n",
       "      <td>469662.28125</td>\n",
       "      <td>6803718.5</td>\n",
       "      <td>-1534.008667</td>\n",
       "      <td>HORDALAND GP.</td>\n",
       "      <td>Utsira Fm.</td>\n",
       "      <td>18.078920</td>\n",
       "      <td>NaN</td>\n",
       "      <td>0.791581</td>\n",
       "      <td>...</td>\n",
       "      <td>NaN</td>\n",
       "      <td>NaN</td>\n",
       "      <td>NaN</td>\n",
       "      <td>0.050785</td>\n",
       "      <td>NaN</td>\n",
       "      <td>NaN</td>\n",
       "      <td>NaN</td>\n",
       "      <td>NaN</td>\n",
       "      <td>65000</td>\n",
       "      <td>1.0</td>\n",
       "    </tr>\n",
       "    <tr>\n",
       "      <th>505156</th>\n",
       "      <td>30/3-3</td>\n",
       "      <td>2168.398000</td>\n",
       "      <td>497350.65625</td>\n",
       "      <td>6737318.0</td>\n",
       "      <td>-2146.292480</td>\n",
       "      <td>ROGALAND GP.</td>\n",
       "      <td>Lista Fm.</td>\n",
       "      <td>13.396962</td>\n",
       "      <td>1.329799</td>\n",
       "      <td>0.883460</td>\n",
       "      <td>...</td>\n",
       "      <td>NaN</td>\n",
       "      <td>NaN</td>\n",
       "      <td>NaN</td>\n",
       "      <td>0.010822</td>\n",
       "      <td>NaN</td>\n",
       "      <td>NaN</td>\n",
       "      <td>NaN</td>\n",
       "      <td>1.332075</td>\n",
       "      <td>65000</td>\n",
       "      <td>1.0</td>\n",
       "    </tr>\n",
       "    <tr>\n",
       "      <th>777593</th>\n",
       "      <td>34/10-21</td>\n",
       "      <td>2915.698403</td>\n",
       "      <td>454130.25000</td>\n",
       "      <td>6777267.5</td>\n",
       "      <td>-2886.239014</td>\n",
       "      <td>CROMER KNOLL GP.</td>\n",
       "      <td>Aasgard Fm.</td>\n",
       "      <td>14.980711</td>\n",
       "      <td>1.490289</td>\n",
       "      <td>3.185820</td>\n",
       "      <td>...</td>\n",
       "      <td>NaN</td>\n",
       "      <td>NaN</td>\n",
       "      <td>NaN</td>\n",
       "      <td>0.037902</td>\n",
       "      <td>NaN</td>\n",
       "      <td>NaN</td>\n",
       "      <td>NaN</td>\n",
       "      <td>1.354996</td>\n",
       "      <td>65030</td>\n",
       "      <td>2.0</td>\n",
       "    </tr>\n",
       "    <tr>\n",
       "      <th>193234</th>\n",
       "      <td>17/11-1</td>\n",
       "      <td>392.113016</td>\n",
       "      <td>520153.18750</td>\n",
       "      <td>6452287.5</td>\n",
       "      <td>-365.113007</td>\n",
       "      <td>NORDLAND GP.</td>\n",
       "      <td>NaN</td>\n",
       "      <td>20.650301</td>\n",
       "      <td>NaN</td>\n",
       "      <td>1.096277</td>\n",
       "      <td>...</td>\n",
       "      <td>368.656738</td>\n",
       "      <td>NaN</td>\n",
       "      <td>NaN</td>\n",
       "      <td>NaN</td>\n",
       "      <td>1.090420</td>\n",
       "      <td>NaN</td>\n",
       "      <td>NaN</td>\n",
       "      <td>NaN</td>\n",
       "      <td>65000</td>\n",
       "      <td>1.0</td>\n",
       "    </tr>\n",
       "    <tr>\n",
       "      <th>1015251</th>\n",
       "      <td>35/11-12</td>\n",
       "      <td>3189.298000</td>\n",
       "      <td>520571.12500</td>\n",
       "      <td>6777330.0</td>\n",
       "      <td>-3164.814941</td>\n",
       "      <td>VIKING GP.</td>\n",
       "      <td>Heather Fm.</td>\n",
       "      <td>8.953847</td>\n",
       "      <td>NaN</td>\n",
       "      <td>7.334038</td>\n",
       "      <td>...</td>\n",
       "      <td>6.628118</td>\n",
       "      <td>142.588196</td>\n",
       "      <td>NaN</td>\n",
       "      <td>0.020000</td>\n",
       "      <td>NaN</td>\n",
       "      <td>NaN</td>\n",
       "      <td>NaN</td>\n",
       "      <td>NaN</td>\n",
       "      <td>65000</td>\n",
       "      <td>1.0</td>\n",
       "    </tr>\n",
       "  </tbody>\n",
       "</table>\n",
       "<p>10 rows × 29 columns</p>\n",
       "</div>"
      ],
      "text/plain": [
       "             WELL     DEPTH_MD         X_LOC      Y_LOC        Z_LOC  \\\n",
       "358807     25/5-4  2410.864305  470379.37500  6608141.5 -2385.303711   \n",
       "211830   25/11-15  1651.151700  470523.37500  6560848.5 -1627.499878   \n",
       "354236     25/5-4  1716.072305  470379.62500  6608159.5 -1690.781006   \n",
       "693541     31/6-8  1944.668434  537151.93750  6713675.0 -1919.587524   \n",
       "417603   25/8-5 S  2498.686400  464012.00000  6590896.0 -2346.968262   \n",
       "928576     34/8-1  1557.049023  469662.28125  6803718.5 -1534.008667   \n",
       "505156     30/3-3  2168.398000  497350.65625  6737318.0 -2146.292480   \n",
       "777593   34/10-21  2915.698403  454130.25000  6777267.5 -2886.239014   \n",
       "193234    17/11-1   392.113016  520153.18750  6452287.5  -365.113007   \n",
       "1015251  35/11-12  3189.298000  520571.12500  6777330.0 -3164.814941   \n",
       "\n",
       "                    GROUP       FORMATION       CALI      RSHA      RMED  ...  \\\n",
       "358807       ROGALAND GP.       Vaale Fm.  13.426253       NaN  1.289138  ...   \n",
       "211830      HORDALAND GP.        Grid Fm.   9.268112  0.464316  0.580647  ...   \n",
       "354236      HORDALAND GP.        Grid Fm.  13.923372       NaN  0.874792  ...   \n",
       "693541         VIKING GP.  Krossfjord Fm.   8.287967       NaN  0.460192  ...   \n",
       "417603       ROGALAND GP.       Lista Fm.   8.287407  1.180006  1.178047  ...   \n",
       "928576      HORDALAND GP.      Utsira Fm.  18.078920       NaN  0.791581  ...   \n",
       "505156       ROGALAND GP.       Lista Fm.  13.396962  1.329799  0.883460  ...   \n",
       "777593   CROMER KNOLL GP.     Aasgard Fm.  14.980711  1.490289  3.185820  ...   \n",
       "193234       NORDLAND GP.             NaN  20.650301       NaN  1.096277  ...   \n",
       "1015251        VIKING GP.     Heather Fm.   8.953847       NaN  7.334038  ...   \n",
       "\n",
       "                ROP         DTS      DCAL      DRHO  MUDWEIGHT  RMIC  ROPA  \\\n",
       "358807          NaN         NaN  1.176252  0.130643        NaN   NaN   NaN   \n",
       "211830    20.407717         NaN       NaN -0.092030   0.135404   NaN   NaN   \n",
       "354236          NaN         NaN  1.673372  0.051722        NaN   NaN   NaN   \n",
       "693541          NaN         NaN       NaN -0.008555        NaN   NaN   NaN   \n",
       "417603    11.956285         NaN -0.212593  0.041013   1.222229   NaN   NaN   \n",
       "928576          NaN         NaN       NaN  0.050785        NaN   NaN   NaN   \n",
       "505156          NaN         NaN       NaN  0.010822        NaN   NaN   NaN   \n",
       "777593          NaN         NaN       NaN  0.037902        NaN   NaN   NaN   \n",
       "193234   368.656738         NaN       NaN       NaN   1.090420   NaN   NaN   \n",
       "1015251    6.628118  142.588196       NaN  0.020000        NaN   NaN   NaN   \n",
       "\n",
       "                RXO  FORCE_2020_LITHOFACIES_LITHOLOGY  \\\n",
       "358807  -999.900024                             65000   \n",
       "211830          NaN                             65000   \n",
       "354236  -999.900024                             65000   \n",
       "693541          NaN                             30000   \n",
       "417603     1.190629                             65000   \n",
       "928576          NaN                             65000   \n",
       "505156     1.332075                             65000   \n",
       "777593     1.354996                             65030   \n",
       "193234          NaN                             65000   \n",
       "1015251         NaN                             65000   \n",
       "\n",
       "         FORCE_2020_LITHOFACIES_CONFIDENCE  \n",
       "358807                                 1.0  \n",
       "211830                                 1.0  \n",
       "354236                                 1.0  \n",
       "693541                                 1.0  \n",
       "417603                                 1.0  \n",
       "928576                                 1.0  \n",
       "505156                                 1.0  \n",
       "777593                                 2.0  \n",
       "193234                                 1.0  \n",
       "1015251                                1.0  \n",
       "\n",
       "[10 rows x 29 columns]"
      ]
     },
     "execution_count": 6,
     "metadata": {},
     "output_type": "execute_result"
    }
   ],
   "source": [
    "train.sample(10)"
   ]
  },
  {
   "cell_type": "markdown",
   "metadata": {
    "id": "v_Lu1cjxUV34"
   },
   "source": [
    "# Exploratory Data Analysis & Visualization"
   ]
  },
  {
   "cell_type": "markdown",
   "metadata": {},
   "source": [
    "## EDA"
   ]
  },
  {
   "cell_type": "markdown",
   "metadata": {},
   "source": [
    "Let us look at the number of wells for training and testing in the dataset."
   ]
  },
  {
   "cell_type": "code",
   "execution_count": 7,
   "metadata": {
    "id": "L5rUlCv9UVh_"
   },
   "outputs": [],
   "source": [
    "Alldata=pd.concat([train, test], axis=0).reset_index().rename(columns={'index': 'idx'})\n",
    "Alldata.loc[train.index, 'Dataset'] = 'Train'\n",
    "Alldata.loc[train.index.max()+1:, 'Dataset'] = 'Test'"
   ]
  },
  {
   "cell_type": "code",
   "execution_count": 8,
   "metadata": {
    "colab": {
     "base_uri": "https://localhost:8080/"
    },
    "id": "ew_3QxNVUVfF",
    "outputId": "d7e2bf7d-7a1a-410c-8c2d-86c890190a79"
   },
   "outputs": [
    {
     "name": "stdout",
     "output_type": "stream",
     "text": [
      "No of train wells: 98\n"
     ]
    }
   ],
   "source": [
    "train_wells = Alldata['WELL'][Alldata.Dataset=='Train'].unique()\n",
    "print('No of train wells: %s' % len(train_wells))"
   ]
  },
  {
   "cell_type": "code",
   "execution_count": 9,
   "metadata": {
    "colab": {
     "base_uri": "https://localhost:8080/"
    },
    "id": "xGJuLb--UVai",
    "outputId": "fe77f574-38ed-4221-f14b-08e91783faec"
   },
   "outputs": [
    {
     "name": "stdout",
     "output_type": "stream",
     "text": [
      "No of test wells: 10\n"
     ]
    }
   ],
   "source": [
    "test_wells = Alldata['WELL'][Alldata.Dataset=='Test'].unique()\n",
    "print('No of test wells: %s' % len(test_wells))"
   ]
  },
  {
   "cell_type": "markdown",
   "metadata": {},
   "source": [
    "We will create a dictionary of the lithology names with respect to their unique number key present in the dataset."
   ]
  },
  {
   "cell_type": "code",
   "execution_count": 10,
   "metadata": {
    "colab": {
     "base_uri": "https://localhost:8080/"
    },
    "id": "-FFUVuVeUVPm",
    "outputId": "f5c81784-5f4e-47f7-811b-6c08b603204d"
   },
   "outputs": [
    {
     "data": {
      "text/plain": [
       "{30000: 'Sandstone',\n",
       " 65030: 'Sandstone/Shale',\n",
       " 65000: 'Shale',\n",
       " 80000: 'Marl',\n",
       " 74000: 'Dolomite',\n",
       " 70000: 'Limestone',\n",
       " 70032: 'Chalk',\n",
       " 88000: 'Halite',\n",
       " 86000: 'Anhydrite',\n",
       " 99000: 'Tuff',\n",
       " 90000: 'Coal',\n",
       " 93000: 'Basement'}"
      ]
     },
     "execution_count": 10,
     "metadata": {},
     "output_type": "execute_result"
    }
   ],
   "source": [
    "lithology_keys = {} # initialize dictionary\n",
    "litho=['Sandstone', 'Shale', 'SandyShale', 'Limestone', 'Chalk', 'Dolomite',\n",
    "       'Marl', 'Anhydrite', 'Halite', 'Coal', 'Basement', 'Tuff']\n",
    "col = np.sort(Alldata['FORCE_2020_LITHOFACIES_LITHOLOGY'][Alldata.Dataset=='Train'].unique())\n",
    "for index, name in enumerate(col):\n",
    "    lithology_keys[name] = litho[index]\n",
    "lithology_keys = {30000: 'Sandstone',\n",
    "                 65030: 'Sandstone/Shale',\n",
    "                 65000: 'Shale',\n",
    "                 80000: 'Marl',\n",
    "                 74000: 'Dolomite',\n",
    "                 70000: 'Limestone',\n",
    "                 70032: 'Chalk',\n",
    "                 88000: 'Halite',\n",
    "                 86000: 'Anhydrite',\n",
    "                 99000: 'Tuff',\n",
    "                 90000: 'Coal',\n",
    "                 93000: 'Basement'}\n",
    "lithology_keys"
   ]
  },
  {
   "cell_type": "markdown",
   "metadata": {},
   "source": [
    "Let us look at the count of different facies labels. "
   ]
  },
  {
   "cell_type": "code",
   "execution_count": 12,
   "metadata": {
    "colab": {
     "base_uri": "https://localhost:8080/",
     "height": 764
    },
    "id": "dqNn7V63VEHP",
    "outputId": "6875e521-421a-43ea-df84-bb8abe219a30"
   },
   "outputs": [
    {
     "name": "stderr",
     "output_type": "stream",
     "text": [
      "/tmp/ipykernel_112349/3664829130.py:10: UserWarning: set_ticklabels() should only be used with a fixed number of ticks, i.e. after set_ticks() or using a FixedLocator.\n",
      "  ax.set_xticklabels(names, rotation=45)\n"
     ]
    },
    {
     "data": {
      "text/plain": [
       "Text(0, 0.5, 'Lithology presence (\\\\%)')"
      ]
     },
     "execution_count": 12,
     "metadata": {},
     "output_type": "execute_result"
    },
    {
     "data": {
      "image/png": "[encoded data removed]",
      "text/plain": [
       "<Figure size 1400x700 with 1 Axes>"
      ]
     },
     "metadata": {},
     "output_type": "display_data"
    }
   ],
   "source": [
    "counts = train['FORCE_2020_LITHOFACIES_LITHOLOGY'].value_counts()\n",
    "names = []\n",
    "percentage = []\n",
    "N = train['FORCE_2020_LITHOFACIES_LITHOLOGY'].shape[0]\n",
    "for item in counts.items():\n",
    "    names.append(lithology_keys[item[0]])\n",
    "    percentage.append(float(item[1])/N*100)\n",
    "fig, ax = plt.subplots(1, 1, figsize=(14, 7))\n",
    "ax.bar(x=np.arange(len(names)), height=percentage)\n",
    "ax.set_xticklabels(names, rotation=45)\n",
    "ax.set_xticks(np.arange(len(names)))\n",
    "ax.set_ylabel('Lithology presence (\\%)')"
   ]
  },
  {
   "cell_type": "markdown",
   "metadata": {},
   "source": [
    "Create a list of feature names to be used for training the ML model. "
   ]
  },
  {
   "cell_type": "code",
   "execution_count": 13,
   "metadata": {
    "id": "A3E_25TTVEEM"
   },
   "outputs": [],
   "source": [
    "feature_names = ['DEPTH_MD', 'X_LOC', 'Y_LOC', 'Z_LOC', 'CALI', 'GR', 'RSHA', 'RMED', 'RDEP', 'RHOB',\n",
    "                 'NPHI', 'PEF', 'DTC', 'DTS', 'SP', 'ROP', 'BS']"
   ]
  },
  {
   "cell_type": "markdown",
   "metadata": {},
   "source": [
    "Create a dictionary of unique colours for each facies label, for visualization purposes."
   ]
  },
  {
   "cell_type": "code",
   "execution_count": 14,
   "metadata": {},
   "outputs": [],
   "source": [
    "facies_names = lithology_keys.values()\n",
    "facies_colors = ['darkorange', '#228B22', 'grey', 'cyan', 'gold', 'lightseagreen',\n",
    "                 'lawngreen', 'lightblue', 'tan', '#FF4500', '#000000', 'magenta']\n",
    "#\n",
    "#facies_color_map is a dictionary that maps facies labels to their respective colors\n",
    "facies_color_map = {}\n",
    "for ind, label in enumerate(facies_names):\n",
    "    facies_color_map[label] = facies_colors[ind]"
   ]
  },
  {
   "cell_type": "markdown",
   "metadata": {},
   "source": [
    "We will create a new dictionary of sequential facies numbering with respect to the unique lithology numbers in the dataset.  "
   ]
  },
  {
   "cell_type": "code",
   "execution_count": 15,
   "metadata": {
    "colab": {
     "base_uri": "https://localhost:8080/",
     "height": 243
    },
    "id": "cBqknAOtVD-k",
    "outputId": "ab26a885-8211-4201-91da-e3e95b6ad378"
   },
   "outputs": [
    {
     "data": {
      "text/plain": [
       "{30000: 'Sandstone',\n",
       " 65030: 'Sandstone/Shale',\n",
       " 65000: 'Shale',\n",
       " 80000: 'Marl',\n",
       " 74000: 'Dolomite',\n",
       " 70000: 'Limestone',\n",
       " 70032: 'Chalk',\n",
       " 88000: 'Halite',\n",
       " 86000: 'Anhydrite',\n",
       " 99000: 'Tuff',\n",
       " 90000: 'Coal',\n",
       " 93000: 'Basement'}"
      ]
     },
     "metadata": {},
     "output_type": "display_data"
    },
    {
     "data": {
      "text/plain": [
       "array([ 2.,  0.,  1.,  5.,  9.,  3.,  8.,  4.,  6., 10.,  7., 11., nan])"
      ]
     },
     "execution_count": 15,
     "metadata": {},
     "output_type": "execute_result"
    }
   ],
   "source": [
    "Y = Alldata['FORCE_2020_LITHOFACIES_LITHOLOGY']\n",
    "lithology_numbers = {} # initialize dictionary\n",
    "lithology_numbers = {30000: 0,\n",
    "                     65030: 1,\n",
    "                     65000: 2,\n",
    "                     80000: 3,\n",
    "                     74000: 4,\n",
    "                     70000: 5,\n",
    "                     70032: 6,\n",
    "                     88000: 7,\n",
    "                     86000: 8,\n",
    "                     99000: 9,\n",
    "                     90000: 10,\n",
    "                     93000: 11}\n",
    "display(lithology_keys)\n",
    "Y = Y.map(lithology_numbers)\n",
    "Y.unique()"
   ]
  },
  {
   "cell_type": "markdown",
   "metadata": {},
   "source": [
    "Store well labels and depths for training data"
   ]
  },
  {
   "cell_type": "code",
   "execution_count": 16,
   "metadata": {
    "id": "qii-D-1UVpYU"
   },
   "outputs": [],
   "source": [
    "well = Alldata['WELL']\n",
    "dataset = Alldata[['idx', 'Dataset']]\n",
    "depth = Alldata['DEPTH_MD']\n",
    "Strat = Alldata['GROUP']\n",
    "Formation = Alldata['FORMATION']"
   ]
  },
  {
   "cell_type": "code",
   "execution_count": 17,
   "metadata": {
    "id": "dbzXAoevVpTN"
   },
   "outputs": [],
   "source": [
    "X_all = Alldata.drop(columns=['WELL', 'FORCE_2020_LITHOFACIES_LITHOLOGY', 'FORCE_2020_LITHOFACIES_CONFIDENCE',\n",
    "                              'idx', 'Dataset'])\n",
    "X=X_all[feature_names]\n",
    "\n",
    "Y=Y.reindex(X.index)\n",
    "Strat=Strat.reindex(X.index)\n",
    "Formation=Formation.reindex(X.index)"
   ]
  },
  {
   "cell_type": "markdown",
   "metadata": {},
   "source": []
  },
  {
   "cell_type": "code",
   "execution_count": 18,
   "metadata": {
    "colab": {
     "base_uri": "https://localhost:8080/",
     "height": 300
    },
    "id": "jkLx88saVpPv",
    "outputId": "42ae5421-3483-47fd-c133-f25ea0a26bde"
   },
   "outputs": [
    {
     "data": {
      "text/html": [
       "<div>\n",
       "<style scoped>\n",
       "    .dataframe tbody tr th:only-of-type {\n",
       "        vertical-align: middle;\n",
       "    }\n",
       "\n",
       "    .dataframe tbody tr th {\n",
       "        vertical-align: top;\n",
       "    }\n",
       "\n",
       "    .dataframe thead th {\n",
       "        text-align: right;\n",
       "    }\n",
       "</style>\n",
       "<table border=\"1\" class=\"dataframe\">\n",
       "  <thead>\n",
       "    <tr style=\"text-align: right;\">\n",
       "      <th></th>\n",
       "      <th>DEPTH_MD</th>\n",
       "      <th>X_LOC</th>\n",
       "      <th>Y_LOC</th>\n",
       "      <th>Z_LOC</th>\n",
       "      <th>CALI</th>\n",
       "      <th>GR</th>\n",
       "      <th>RSHA</th>\n",
       "      <th>RMED</th>\n",
       "      <th>RDEP</th>\n",
       "      <th>RHOB</th>\n",
       "      <th>NPHI</th>\n",
       "      <th>PEF</th>\n",
       "      <th>DTC</th>\n",
       "      <th>DTS</th>\n",
       "      <th>SP</th>\n",
       "      <th>ROP</th>\n",
       "      <th>BS</th>\n",
       "    </tr>\n",
       "  </thead>\n",
       "  <tbody>\n",
       "    <tr>\n",
       "      <th>count</th>\n",
       "      <td>1.307297e+06</td>\n",
       "      <td>1.307297e+06</td>\n",
       "      <td>1.307297e+06</td>\n",
       "      <td>1.307297e+06</td>\n",
       "      <td>1.307297e+06</td>\n",
       "      <td>1.307297e+06</td>\n",
       "      <td>1.307297e+06</td>\n",
       "      <td>1.307297e+06</td>\n",
       "      <td>1.307297e+06</td>\n",
       "      <td>1.307297e+06</td>\n",
       "      <td>1.307297e+06</td>\n",
       "      <td>1.307297e+06</td>\n",
       "      <td>1.307297e+06</td>\n",
       "      <td>1.307297e+06</td>\n",
       "      <td>1.307297e+06</td>\n",
       "      <td>1.307297e+06</td>\n",
       "      <td>1.307297e+06</td>\n",
       "    </tr>\n",
       "    <tr>\n",
       "      <th>mean</th>\n",
       "      <td>2.217261e+03</td>\n",
       "      <td>4.797504e+05</td>\n",
       "      <td>6.628721e+06</td>\n",
       "      <td>-2.147925e+03</td>\n",
       "      <td>1.218500e+01</td>\n",
       "      <td>7.031829e+01</td>\n",
       "      <td>5.253029e+00</td>\n",
       "      <td>4.717007e+00</td>\n",
       "      <td>9.865322e+00</td>\n",
       "      <td>1.977126e+00</td>\n",
       "      <td>2.193081e-01</td>\n",
       "      <td>3.777892e+00</td>\n",
       "      <td>1.058195e+02</td>\n",
       "      <td>3.346444e+01</td>\n",
       "      <td>4.190659e+01</td>\n",
       "      <td>5.760407e+01</td>\n",
       "      <td>6.792050e+00</td>\n",
       "    </tr>\n",
       "    <tr>\n",
       "      <th>std</th>\n",
       "      <td>1.006788e+03</td>\n",
       "      <td>5.609554e+04</td>\n",
       "      <td>6.194671e+05</td>\n",
       "      <td>9.864015e+02</td>\n",
       "      <td>4.945737e+00</td>\n",
       "      <td>3.396652e+01</td>\n",
       "      <td>7.016473e+01</td>\n",
       "      <td>5.146719e+01</td>\n",
       "      <td>1.076017e+02</td>\n",
       "      <td>8.198512e-01</td>\n",
       "      <td>1.880176e-01</td>\n",
       "      <td>8.926784e+00</td>\n",
       "      <td>3.968701e+01</td>\n",
       "      <td>8.010788e+01</td>\n",
       "      <td>6.806375e+01</td>\n",
       "      <td>9.871182e+02</td>\n",
       "      <td>6.350431e+00</td>\n",
       "    </tr>\n",
       "    <tr>\n",
       "      <th>min</th>\n",
       "      <td>1.360860e+02</td>\n",
       "      <td>0.000000e+00</td>\n",
       "      <td>0.000000e+00</td>\n",
       "      <td>-5.395563e+03</td>\n",
       "      <td>0.000000e+00</td>\n",
       "      <td>1.092843e-01</td>\n",
       "      <td>0.000000e+00</td>\n",
       "      <td>-8.418695e-03</td>\n",
       "      <td>0.000000e+00</td>\n",
       "      <td>0.000000e+00</td>\n",
       "      <td>-3.582247e-02</td>\n",
       "      <td>0.000000e+00</td>\n",
       "      <td>0.000000e+00</td>\n",
       "      <td>0.000000e+00</td>\n",
       "      <td>-9.990000e+02</td>\n",
       "      <td>-1.179770e-01</td>\n",
       "      <td>0.000000e+00</td>\n",
       "    </tr>\n",
       "    <tr>\n",
       "      <th>25%</th>\n",
       "      <td>1.443348e+03</td>\n",
       "      <td>4.544695e+05</td>\n",
       "      <td>6.590892e+06</td>\n",
       "      <td>-2.843063e+03</td>\n",
       "      <td>8.868817e+00</td>\n",
       "      <td>4.722087e+01</td>\n",
       "      <td>0.000000e+00</td>\n",
       "      <td>8.766262e-01</td>\n",
       "      <td>8.968398e-01</td>\n",
       "      <td>2.005296e+00</td>\n",
       "      <td>0.000000e+00</td>\n",
       "      <td>0.000000e+00</td>\n",
       "      <td>8.405653e+01</td>\n",
       "      <td>0.000000e+00</td>\n",
       "      <td>0.000000e+00</td>\n",
       "      <td>0.000000e+00</td>\n",
       "      <td>0.000000e+00</td>\n",
       "    </tr>\n",
       "    <tr>\n",
       "      <th>50%</th>\n",
       "      <td>2.113328e+03</td>\n",
       "      <td>4.767682e+05</td>\n",
       "      <td>6.737676e+06</td>\n",
       "      <td>-2.068498e+03</td>\n",
       "      <td>1.242531e+01</td>\n",
       "      <td>6.731985e+01</td>\n",
       "      <td>3.901408e-01</td>\n",
       "      <td>1.426823e+00</td>\n",
       "      <td>1.450366e+00</td>\n",
       "      <td>2.249889e+00</td>\n",
       "      <td>2.383749e-01</td>\n",
       "      <td>3.058908e+00</td>\n",
       "      <td>1.049414e+02</td>\n",
       "      <td>0.000000e+00</td>\n",
       "      <td>3.690100e+01</td>\n",
       "      <td>0.000000e+00</td>\n",
       "      <td>8.500000e+00</td>\n",
       "    </tr>\n",
       "    <tr>\n",
       "      <th>75%</th>\n",
       "      <td>2.907089e+03</td>\n",
       "      <td>5.183656e+05</td>\n",
       "      <td>6.784906e+06</td>\n",
       "      <td>-1.399016e+03</td>\n",
       "      <td>1.545700e+01</td>\n",
       "      <td>8.853503e+01</td>\n",
       "      <td>1.435587e+00</td>\n",
       "      <td>2.628997e+00</td>\n",
       "      <td>2.569593e+00</td>\n",
       "      <td>2.469035e+00</td>\n",
       "      <td>3.649973e-01</td>\n",
       "      <td>4.728402e+00</td>\n",
       "      <td>1.389161e+02</td>\n",
       "      <td>0.000000e+00</td>\n",
       "      <td>6.724650e+01</td>\n",
       "      <td>1.608300e+01</td>\n",
       "      <td>1.225000e+01</td>\n",
       "    </tr>\n",
       "    <tr>\n",
       "      <th>max</th>\n",
       "      <td>5.436632e+03</td>\n",
       "      <td>5.726328e+05</td>\n",
       "      <td>6.856661e+06</td>\n",
       "      <td>0.000000e+00</td>\n",
       "      <td>2.827900e+01</td>\n",
       "      <td>1.076964e+03</td>\n",
       "      <td>2.193905e+03</td>\n",
       "      <td>1.988616e+03</td>\n",
       "      <td>1.999887e+03</td>\n",
       "      <td>3.457820e+00</td>\n",
       "      <td>9.995703e-01</td>\n",
       "      <td>3.831300e+02</td>\n",
       "      <td>3.204789e+02</td>\n",
       "      <td>6.765781e+02</td>\n",
       "      <td>5.265473e+02</td>\n",
       "      <td>4.701512e+04</td>\n",
       "      <td>2.600000e+01</td>\n",
       "    </tr>\n",
       "  </tbody>\n",
       "</table>\n",
       "</div>"
      ],
      "text/plain": [
       "           DEPTH_MD         X_LOC         Y_LOC         Z_LOC          CALI  \\\n",
       "count  1.307297e+06  1.307297e+06  1.307297e+06  1.307297e+06  1.307297e+06   \n",
       "mean   2.217261e+03  4.797504e+05  6.628721e+06 -2.147925e+03  1.218500e+01   \n",
       "std    1.006788e+03  5.609554e+04  6.194671e+05  9.864015e+02  4.945737e+00   \n",
       "min    1.360860e+02  0.000000e+00  0.000000e+00 -5.395563e+03  0.000000e+00   \n",
       "25%    1.443348e+03  4.544695e+05  6.590892e+06 -2.843063e+03  8.868817e+00   \n",
       "50%    2.113328e+03  4.767682e+05  6.737676e+06 -2.068498e+03  1.242531e+01   \n",
       "75%    2.907089e+03  5.183656e+05  6.784906e+06 -1.399016e+03  1.545700e+01   \n",
       "max    5.436632e+03  5.726328e+05  6.856661e+06  0.000000e+00  2.827900e+01   \n",
       "\n",
       "                 GR          RSHA          RMED          RDEP          RHOB  \\\n",
       "count  1.307297e+06  1.307297e+06  1.307297e+06  1.307297e+06  1.307297e+06   \n",
       "mean   7.031829e+01  5.253029e+00  4.717007e+00  9.865322e+00  1.977126e+00   \n",
       "std    3.396652e+01  7.016473e+01  5.146719e+01  1.076017e+02  8.198512e-01   \n",
       "min    1.092843e-01  0.000000e+00 -8.418695e-03  0.000000e+00  0.000000e+00   \n",
       "25%    4.722087e+01  0.000000e+00  8.766262e-01  8.968398e-01  2.005296e+00   \n",
       "50%    6.731985e+01  3.901408e-01  1.426823e+00  1.450366e+00  2.249889e+00   \n",
       "75%    8.853503e+01  1.435587e+00  2.628997e+00  2.569593e+00  2.469035e+00   \n",
       "max    1.076964e+03  2.193905e+03  1.988616e+03  1.999887e+03  3.457820e+00   \n",
       "\n",
       "               NPHI           PEF           DTC           DTS            SP  \\\n",
       "count  1.307297e+06  1.307297e+06  1.307297e+06  1.307297e+06  1.307297e+06   \n",
       "mean   2.193081e-01  3.777892e+00  1.058195e+02  3.346444e+01  4.190659e+01   \n",
       "std    1.880176e-01  8.926784e+00  3.968701e+01  8.010788e+01  6.806375e+01   \n",
       "min   -3.582247e-02  0.000000e+00  0.000000e+00  0.000000e+00 -9.990000e+02   \n",
       "25%    0.000000e+00  0.000000e+00  8.405653e+01  0.000000e+00  0.000000e+00   \n",
       "50%    2.383749e-01  3.058908e+00  1.049414e+02  0.000000e+00  3.690100e+01   \n",
       "75%    3.649973e-01  4.728402e+00  1.389161e+02  0.000000e+00  6.724650e+01   \n",
       "max    9.995703e-01  3.831300e+02  3.204789e+02  6.765781e+02  5.265473e+02   \n",
       "\n",
       "                ROP            BS  \n",
       "count  1.307297e+06  1.307297e+06  \n",
       "mean   5.760407e+01  6.792050e+00  \n",
       "std    9.871182e+02  6.350431e+00  \n",
       "min   -1.179770e-01  0.000000e+00  \n",
       "25%    0.000000e+00  0.000000e+00  \n",
       "50%    0.000000e+00  8.500000e+00  \n",
       "75%    1.608300e+01  1.225000e+01  \n",
       "max    4.701512e+04  2.600000e+01  "
      ]
     },
     "execution_count": 18,
     "metadata": {},
     "output_type": "execute_result"
    }
   ],
   "source": [
    "#Zero imputer\n",
    "X_imp=X.fillna(0)\n",
    "X_imp.describe()"
   ]
  },
  {
   "cell_type": "markdown",
   "metadata": {
    "id": "Rq7GDns9XHkA"
   },
   "source": [
    "## Log plot"
   ]
  },
  {
   "cell_type": "code",
   "execution_count": 19,
   "metadata": {
    "id": "xq02mzeIUVli"
   },
   "outputs": [],
   "source": [
    "from mpl_toolkits.axes_grid1 import make_axes_locatable\n",
    "import matplotlib.colors as colors\n",
    "def make_facies_log_plot(logs, curves, well_name, facies_colors):\n",
    "\n",
    "    #make sure logs are sorted by depth\n",
    "    cmap_facies = colors.ListedColormap(facies_colors, 'indexed')\n",
    "\n",
    "    colours=['k','b','r','g','m','c','lime','gold','sienna']\n",
    "\n",
    "    ztop=logs.Depth.min(); zbot=logs.Depth.max()\n",
    "\n",
    "    cluster=np.repeat(logs['litho_real'].values.reshape(-1, 1),50,axis=1)\n",
    "\n",
    "    num_curves = len(curves)\n",
    "    f, ax = plt.subplots(nrows=1, ncols=num_curves+1, figsize=(num_curves*2, 12))\n",
    "\n",
    "    for ic, col in enumerate(curves):\n",
    "\n",
    "        # if the curve doesn't exist, make it zeros\n",
    "        if np.all(np.isnan(logs[col])):\n",
    "            curve = np.empty(logs[col].values.shape)\n",
    "            curve[:] = np.nan\n",
    "\n",
    "        else:\n",
    "            curve = logs[col]\n",
    "\n",
    "        ax[ic].plot(curve, logs.Depth,colours[ic])\n",
    "        ax[ic].set_xlabel(col)\n",
    "        if ic != 0:\n",
    "            ax[ic].set_yticklabels([]);\n",
    "\n",
    "    # make the lithfacies column\n",
    "    im=ax[num_curves].imshow(cluster, interpolation='none', aspect='auto',\n",
    "                    cmap=cmap_facies,vmin=0,vmax=len(facies_colors)-1)\n",
    "\n",
    "    divider = make_axes_locatable(ax[num_curves])\n",
    "    cax = divider.append_axes(\"right\", size=\"20%\", pad=0.05)\n",
    "    cbar=plt.colorbar(im, cax=cax)\n",
    "    cbar.set_label((13*' ').join(['  SS', 'SS-Sh', 'Sh',\n",
    "                                ' Marl', 'Dol', 'Lims', 'Chlk ',\n",
    "                                '  Hal', 'Anhy', 'Tuf', 'Coal', 'Bsmt']))\n",
    "    cbar.set_ticks(range(0,1)); cbar.set_ticklabels('')\n",
    "\n",
    "    for i in range(len(ax)-1):\n",
    "        ax[i].set_ylim(ztop,zbot)\n",
    "        ax[i].invert_yaxis()\n",
    "        ax[i].grid()\n",
    "        ax[i].locator_params(axis='x', nbins=3)\n",
    "\n",
    "    ax[0].set_ylabel(\"DEPTH\")\n",
    "    ax[num_curves].set_xlabel('Lithology')\n",
    "    ax[num_curves].set_yticklabels([])\n",
    "    ax[num_curves].set_xticklabels([])\n",
    "\n",
    "    f.suptitle('Well: %s'% well_name, fontsize=14,y=0.94)"
   ]
  },
  {
   "cell_type": "code",
   "execution_count": 20,
   "metadata": {
    "colab": {
     "base_uri": "https://localhost:8080/",
     "height": 1000
    },
    "id": "0h41PlrOVpML",
    "outputId": "79b0a165-8ef6-4147-ac5c-a4ed7a65abf4"
   },
   "outputs": [
    {
     "data": {
      "image/png": "[encoded data removed]",
      "text/plain": [
       "<Figure size 1400x1200 with 9 Axes>"
      ]
     },
     "metadata": {},
     "output_type": "display_data"
    }
   ],
   "source": [
    "well_no=13\n",
    "logs = pd.concat([X_imp,\n",
    "                  Y], axis=1).rename(columns = {'FORCE_2020_LITHOFACIES_LITHOLOGY':'litho_real', 'DEPTH_MD':'Depth'\n",
    "                                               })\n",
    "make_facies_log_plot(logs[well==train_wells[well_no]], ['CALI', 'GR', 'RHOB', 'NPHI', 'RSHA', 'RDEP', 'PEF'],\n",
    "                     train_wells[well_no],\n",
    "                     facies_colors)"
   ]
  },
  {
   "cell_type": "markdown",
   "metadata": {
    "id": "HuNoKob8RUG7"
   },
   "source": [
    "# Preprocessing and Model Training"
   ]
  },
  {
   "cell_type": "markdown",
   "metadata": {
    "jp-MarkdownHeadingCollapsed": true
   },
   "source": [
    "## Preprocessing functions"
   ]
  },
  {
   "cell_type": "code",
   "execution_count": 21,
   "metadata": {
    "id": "Z1HHu00J6gBZ"
   },
   "outputs": [],
   "source": [
    "def drop_columns(data, *args):\n",
    "\n",
    "    '''\n",
    "    function used to drop columns.\n",
    "    args::\n",
    "      data:  dataframe to be operated on\n",
    "      *args: a list of columns to be dropped from the dataframe\n",
    "\n",
    "    return: returns a dataframe with the columns dropped\n",
    "    '''\n",
    "\n",
    "    columns = []\n",
    "    for _ in args:\n",
    "        columns.append(_)\n",
    "\n",
    "    data = data.drop(columns, axis=1)\n",
    "\n",
    "    return data\n"
   ]
  },
  {
   "cell_type": "code",
   "execution_count": 22,
   "metadata": {
    "id": "WC3b0YpJD1kC"
   },
   "outputs": [],
   "source": [
    "def process(data):\n",
    "\n",
    "    '''\n",
    "    function to process dataframe by replacing missing, infinity values with -999\n",
    "\n",
    "    args::\n",
    "      data:  dataframe to be operated on\n",
    "\n",
    "    returns dataframe with replaced values\n",
    "    '''\n",
    "\n",
    "    cols = list(data.columns)\n",
    "    for _ in cols:\n",
    "\n",
    "        data[_] = np.where(data[_] == np.inf, -999, data[_])\n",
    "        data[_] = np.where(data[_] == np.nan, -999, data[_])\n",
    "        data[_] = np.where(data[_] == -np.inf, -999, data[_])\n",
    "\n",
    "    return data"
   ]
  },
  {
   "cell_type": "markdown",
   "metadata": {
    "id": "yZiWPAQuRod2"
   },
   "source": [
    "## Feature Engineering"
   ]
  },
  {
   "cell_type": "code",
   "execution_count": 23,
   "metadata": {
    "id": "6eAUzxMPD1eA"
   },
   "outputs": [],
   "source": [
    "# Feature windows concatenation function\n",
    "def augment_features_window(X, N_neig):\n",
    "\n",
    "    # Parameters\n",
    "    N_row = X.shape[0]\n",
    "    N_feat = X.shape[1]\n",
    "\n",
    "    # Zero padding\n",
    "    X = np.vstack((np.zeros((N_neig, N_feat)), X, (np.zeros((N_neig, N_feat)))))\n",
    "\n",
    "    # Loop over windows\n",
    "    X_aug = np.zeros((N_row, N_feat*(2*N_neig+1)))\n",
    "    for r in np.arange(N_row)+N_neig:\n",
    "        this_row = []\n",
    "        for c in np.arange(-N_neig,N_neig+1):\n",
    "            this_row = np.hstack((this_row, X[r+c]))\n",
    "        X_aug[r-N_neig] = this_row\n",
    "\n",
    "    return X_aug"
   ]
  },
  {
   "cell_type": "code",
   "execution_count": 24,
   "metadata": {
    "id": "a0ExSV_UD1bf"
   },
   "outputs": [],
   "source": [
    "# Feature gradient computation function\n",
    "def augment_features_gradient(X, depth):\n",
    "\n",
    "    # Compute features gradient\n",
    "    d_diff = np.diff(depth).reshape((-1, 1))\n",
    "    d_diff[d_diff==0] = 0.001\n",
    "    X_diff = np.diff(X, axis=0)\n",
    "    X_grad = X_diff / d_diff\n",
    "\n",
    "    # Compensate for last missing value\n",
    "    X_grad = np.concatenate((X_grad, np.zeros((1, X_grad.shape[1]))))\n",
    "\n",
    "    return X_grad"
   ]
  },
  {
   "cell_type": "code",
   "execution_count": 25,
   "metadata": {
    "id": "6SPvO1OKEEWW"
   },
   "outputs": [],
   "source": [
    "# Combined feature augmentation function\n",
    "def augment_features(X, well, depth, N_neig=1):\n",
    "\n",
    "    # Augment features\n",
    "    X_aug = np.zeros((X.shape[0], X.shape[1]*(N_neig*2+2)))\n",
    "    for w in np.unique(well):\n",
    "        w_idx = np.where(well == w)[0]\n",
    "        X_aug_win = augment_features_window(X[w_idx, :], N_neig)\n",
    "        X_aug_grad = augment_features_gradient(X[w_idx, :], depth[w_idx])\n",
    "        X_aug[w_idx, :] = np.concatenate((X_aug_win, X_aug_grad), axis=1)\n",
    "\n",
    "    # Find padded rows\n",
    "    padded_rows = np.unique(np.where(X_aug[:, 0:7] == np.zeros((1, 7)))[0])\n",
    "\n",
    "    return X_aug, padded_rows"
   ]
  },
  {
   "cell_type": "markdown",
   "metadata": {
    "id": "7t-aWd_ST-mW"
   },
   "source": [
    "## Functions for Analyzing the Results\n"
   ]
  },
  {
   "cell_type": "code",
   "execution_count": 27,
   "metadata": {
    "id": "Quv4iavk2nXk"
   },
   "outputs": [],
   "source": [
    "from sklearn.metrics import accuracy_score, classification_report\n",
    "\n",
    "def show_evaluation(predictions, true_labels):\n",
    "    # Calculate accuracy\n",
    "    accuracy = accuracy_score(true_labels, predictions)\n",
    "    print(f'Accuracy is: {accuracy}')\n",
    "\n",
    "    # Generate and print classification report\n",
    "    class_report = classification_report(true_labels, predictions)\n",
    "    print(f'Classification Report:\\n{class_report}')\n",
    "\n",
    "    return accuracy"
   ]
  },
  {
   "cell_type": "code",
   "execution_count": 28,
   "metadata": {
    "id": "K9vr27maT8VO"
   },
   "outputs": [],
   "source": [
    "def score(y_true, y_pred):\n",
    "\n",
    "    '''\n",
    "    custom metric used for evaluation\n",
    "    args:\n",
    "      y_true: actual prediction\n",
    "      y_pred: predictions made\n",
    "    '''\n",
    "\n",
    "    S = 0.0\n",
    "    y_true = y_true.astype(int)\n",
    "    y_pred = y_pred.astype(int)\n",
    "    for i in range(0, y_true.shape[0]):\n",
    "        S -= A[y_true[i], y_pred[i]]\n",
    "    return S/y_true.shape[0]"
   ]
  },
  {
   "cell_type": "markdown",
   "metadata": {
    "id": "7UexjHd7SHYR"
   },
   "source": [
    "# Model Architecture"
   ]
  },
  {
   "cell_type": "code",
   "execution_count": 31,
   "metadata": {
    "id": "xQSZM0glXhPD"
   },
   "outputs": [],
   "source": [
    "class Model():\n",
    "\n",
    "    '''\n",
    "    class to lithology prediction\n",
    "    '''\n",
    "\n",
    "    def __init__(self, train, test):\n",
    "\n",
    "        '''\n",
    "        takes in the train and test dataframes\n",
    "        '''\n",
    "\n",
    "        self.train = train\n",
    "        self.test = test\n",
    "\n",
    "\n",
    "    def __call__(self, plot = True):\n",
    "\n",
    "      return self.fit(plot)\n",
    "\n",
    "    def preprocess(self, train, test):\n",
    "\n",
    "        '''\n",
    "        method to prepare datasets for training and predictions\n",
    "        accepts both the train and test dataframes as arguments\n",
    "\n",
    "        returns the prepared train, test datasets along with the\n",
    "        lithology labels and numbers.\n",
    "\n",
    "        '''\n",
    "\n",
    "        #concatenating both train and test datasets for easier and uniform processing\n",
    "\n",
    "        ntrain = train.shape[0]\n",
    "        ntest = test.shape[0]\n",
    "        target = train.FORCE_2020_LITHOFACIES_LITHOLOGY.copy()\n",
    "        df = pd.concat((train, test)).reset_index(drop=True)\n",
    "\n",
    "        #mapping the lithology labels to ordinal values for better modelling\n",
    "\n",
    "        lithology = train['FORCE_2020_LITHOFACIES_LITHOLOGY']\n",
    "\n",
    "        lithology_numbers = {30000: 0,\n",
    "                        65030: 1,\n",
    "                        65000: 2,\n",
    "                        80000: 3,\n",
    "                        74000: 4,\n",
    "                        70000: 5,\n",
    "                        70032: 6,\n",
    "                        88000: 7,\n",
    "                        86000: 8,\n",
    "                        99000: 9,\n",
    "                        90000: 10,\n",
    "                        93000: 11}\n",
    "\n",
    "        lithology1 = lithology.map(lithology_numbers)\n",
    "\n",
    "        #implementing Bestagini's augmentation procedure\n",
    "\n",
    "        train_well = train.WELL.values\n",
    "        train_depth = train.DEPTH_MD.values\n",
    "\n",
    "        test_well = test.WELL.values\n",
    "        test_depth = test.DEPTH_MD.values\n",
    "\n",
    "\n",
    "\n",
    "        print(f'shape of concatenated dataframe before dropping columns {df.shape}')\n",
    "\n",
    "        cols = ['FORCE_2020_LITHOFACIES_CONFIDENCE', 'SGR', 'DTS', 'RXO', 'ROPA'] #columns to be dropped\n",
    "        df = drop_columns(df, *cols)\n",
    "        print(f'shape of dataframe after dropping columns {df.shape}')\n",
    "        print(f'{cols} were dropped')\n",
    "\n",
    "        #Label encoding the GROUP, FORMATION and WELLS features as these improved the performance of the models on validations\n",
    "\n",
    "        df['GROUP_encoded'] = df['GROUP'].astype('category')\n",
    "        df['GROUP_encoded'] = df['GROUP_encoded'].cat.codes\n",
    "        df['FORMATION_encoded'] = df['FORMATION'].astype('category')\n",
    "        df['FORMATION_encoded'] = df['FORMATION_encoded'].cat.codes\n",
    "        df['WELL_encoded'] = df['WELL'].astype('category')\n",
    "        df['WELL_encoded'] = df['WELL_encoded'].cat.codes\n",
    "        print(f'shape of dataframe after label encoding columns {df.shape}')\n",
    "\n",
    "\n",
    "        #FURTHER PREPRATION TO SPLIT DATAFRAME INTO TRAIN AND TEST DATASETS AFTER PREPRATION\n",
    "        print(f'Splitting concatenated dataframe into training and test datasets...')\n",
    "        df = df.drop(['WELL', 'GROUP', 'FORMATION'], axis=1)\n",
    "        print(df.shape)\n",
    "\n",
    "        df = df.fillna(-999)\n",
    "        df = process(df)\n",
    "        data = df.copy()\n",
    "\n",
    "        train2 = data[:ntrain].copy()\n",
    "        train2.drop(['FORCE_2020_LITHOFACIES_LITHOLOGY'], axis=1, inplace=True)\n",
    "\n",
    "        test2 = data[ntrain:(ntest+ntrain)].copy()\n",
    "        test2.drop(['FORCE_2020_LITHOFACIES_LITHOLOGY'], axis=1, inplace=True)\n",
    "        test2 = test2.reset_index(drop=True)\n",
    "\n",
    "        traindata = train2\n",
    "        testdata = test2\n",
    "\n",
    "        print(f'Shape of train and test datasets before augmentation {traindata.shape, testdata.shape}')\n",
    "\n",
    "        traindata1, padded_rows = augment_features(pd.DataFrame(traindata).values, train_well, train_depth)\n",
    "        testdata1, padded_rows = augment_features(pd.DataFrame(testdata).values, test_well, test_depth)\n",
    "\n",
    "        print(f'Shape of train and test datasets after augmentation {traindata1.shape, testdata1.shape}')\n",
    "\n",
    "        return traindata1, testdata1, lithology1, lithology_numbers\n",
    "\n",
    "    # ___________________________________________________________________________________________________________________________________________________________\n",
    "    def fit(self, plot):\n",
    "\n",
    "      '''\n",
    "      method to train model and make predictions\n",
    "\n",
    "      returns the test predictions, trained model, and lithology numbers used for making the submission file\n",
    "      '''\n",
    "\n",
    "      traindata1, testdata1, lithology1, lithology_numbers = self.preprocess(self.train, self.test)\n",
    "\n",
    "      #using a 10-fold stratified cross-validation technique and seting the shuffle parameter to true\n",
    "      #as this improved the validation performance better\n",
    "\n",
    "      split = 10\n",
    "      kf = StratifiedKFold(n_splits=split, shuffle=True)\n",
    "\n",
    "      open_test = np.zeros((len(testdata1), 12))\n",
    "\n",
    "      #100 n-estimators and 10 max-depth\n",
    "      model = XGBClassifier(n_estimators=100, max_depth=10, booster='gbtree',\n",
    "                            objective='multi:softprob', learning_rate=0.1, random_state=0,\n",
    "                            subsample=0.9, colsample_bytree=0.9,\n",
    "                            eval_metric='mlogloss', verbose=2020, reg_lambda=1500)\n",
    "\n",
    "\n",
    "      i = 1\n",
    "      for (train_index, test_index) in kf.split(pd.DataFrame(traindata1), pd.DataFrame(lithology1)):\n",
    "        X_train, X_test = pd.DataFrame(traindata1).iloc[train_index], pd.DataFrame(traindata1).iloc[test_index]\n",
    "        Y_train, Y_test = pd.DataFrame(lithology1).iloc[train_index],pd.DataFrame(lithology1).iloc[test_index]\n",
    "\n",
    "        model.fit(X_train, Y_train, early_stopping_rounds=100, eval_set=[(X_test, Y_test)], verbose=100)\n",
    "        prediction = model.predict(X_test)\n",
    "        print(show_evaluation(prediction, Y_test))\n",
    "\n",
    "        print(f'-----------------------FOLD {i}---------------------')\n",
    "        i+=1\n",
    "\n",
    "        open_test += model.predict_proba(pd.DataFrame(testdata1))\n",
    "\n",
    "      open_test= pd.DataFrame(open_test/split)\n",
    "\n",
    "      open_test = np.array(pd.DataFrame(open_test).idxmax(axis=1))\n",
    "\n",
    "      print('---------------CROSS VALIDATION COMPLETE')\n",
    "      print('----------------TEST EVALUATION------------------')\n",
    "\n",
    "\n",
    "      if plot: self.plot_feat_imp(model)\n",
    "      return open_test, model, lithology_numbers\n",
    "\n",
    "\n",
    "    def plot_feat_imp(self, model):\n",
    "        feat_imp = pd.Series(model.feature_importances_).sort_values(ascending=False)\n",
    "        plt.figure(figsize=(12,8))\n",
    "        feat_imp.plot(kind='bar', title='Feature Importances')\n",
    "        plt.ylabel('Feature Importance Score')\n",
    "\n"
   ]
  },
  {
   "cell_type": "markdown",
   "metadata": {
    "id": "Hea5pu_YTvjY"
   },
   "source": [
    "# Model Training"
   ]
  },
  {
   "cell_type": "code",
   "execution_count": null,
   "metadata": {
    "colab": {
     "base_uri": "https://localhost:8080/",
     "height": 1000
    },
    "id": "t3dOrluJWtPM",
    "outputId": "49671e7c-c36e-48a1-bef6-e31216f0d7e4"
   },
   "outputs": [
    {
     "name": "stdout",
     "output_type": "stream",
     "text": [
      "shape of concatenated dataframe before dropping columns (1307297, 29)\n",
      "shape of dataframe after dropping columns (1307297, 24)\n",
      "['FORCE_2020_LITHOFACIES_CONFIDENCE', 'SGR', 'DTS', 'RXO', 'ROPA'] were dropped\n",
      "shape of dataframe after label encoding columns (1307297, 27)\n",
      "Splitting concatenated dataframe into training and test datasets...\n",
      "(1307297, 24)\n",
      "Shape of train and test datasets before augmentation ((1170511, 23), (136786, 23))\n",
      "Shape of train and test datasets after augmentation ((1170511, 92), (136786, 92))\n"
     ]
    },
    {
     "name": "stderr",
     "output_type": "stream",
     "text": [
      "/home/jupyter-mannat/.local/lib/python3.10/site-packages/xgboost/sklearn.py:885: UserWarning: `early_stopping_rounds` in `fit` method is deprecated for better compatibility with scikit-learn, use `early_stopping_rounds` in constructor or`set_params` instead.\n",
      "  warnings.warn(\n",
      "/home/jupyter-mannat/.local/lib/python3.10/site-packages/xgboost/core.py:160: UserWarning: [12:52:27] WARNING: /workspace/src/learner.cc:742: \n",
      "Parameters: { \"verbose\" } are not used.\n",
      "\n",
      "  warnings.warn(smsg, UserWarning)\n"
     ]
    },
    {
     "name": "stdout",
     "output_type": "stream",
     "text": [
      "[0]\tvalidation_0-mlogloss:2.16243\n",
      "[99]\tvalidation_0-mlogloss:0.31760\n",
      "Accuracy is: 0.8942606704712436\n",
      "Classification Report:\n",
      "              precision    recall  f1-score   support\n",
      "\n",
      "           0       0.86      0.87      0.87     16893\n",
      "           1       0.81      0.68      0.74     15046\n",
      "           2       0.92      0.97      0.94     72081\n",
      "           3       0.85      0.76      0.81      3333\n",
      "           4       0.67      0.05      0.09       169\n",
      "           5       0.86      0.68      0.76      5632\n",
      "           6       0.90      0.90      0.90      1051\n",
      "           7       0.98      1.00      0.99       821\n",
      "           8       0.90      0.80      0.84       109\n",
      "           9       0.85      0.88      0.86      1524\n",
      "          10       0.83      0.47      0.60       382\n",
      "          11       0.00      0.00      0.00        11\n",
      "\n",
      "    accuracy                           0.89    117052\n",
      "   macro avg       0.79      0.67      0.70    117052\n",
      "weighted avg       0.89      0.89      0.89    117052\n",
      "\n",
      "0.8942606704712436\n",
      "-----------------------FOLD 1---------------------\n"
     ]
    },
    {
     "name": "stderr",
     "output_type": "stream",
     "text": [
      "/home/jupyter-mannat/.local/lib/python3.10/site-packages/sklearn/metrics/_classification.py:1471: UndefinedMetricWarning: Precision and F-score are ill-defined and being set to 0.0 in labels with no predicted samples. Use `zero_division` parameter to control this behavior.\n",
      "  _warn_prf(average, modifier, msg_start, len(result))\n",
      "/home/jupyter-mannat/.local/lib/python3.10/site-packages/sklearn/metrics/_classification.py:1471: UndefinedMetricWarning: Precision and F-score are ill-defined and being set to 0.0 in labels with no predicted samples. Use `zero_division` parameter to control this behavior.\n",
      "  _warn_prf(average, modifier, msg_start, len(result))\n",
      "/home/jupyter-mannat/.local/lib/python3.10/site-packages/sklearn/metrics/_classification.py:1471: UndefinedMetricWarning: Precision and F-score are ill-defined and being set to 0.0 in labels with no predicted samples. Use `zero_division` parameter to control this behavior.\n",
      "  _warn_prf(average, modifier, msg_start, len(result))\n",
      "/home/jupyter-mannat/.local/lib/python3.10/site-packages/xgboost/sklearn.py:885: UserWarning: `early_stopping_rounds` in `fit` method is deprecated for better compatibility with scikit-learn, use `early_stopping_rounds` in constructor or`set_params` instead.\n",
      "  warnings.warn(\n",
      "/home/jupyter-mannat/.local/lib/python3.10/site-packages/xgboost/core.py:160: UserWarning: [12:53:14] WARNING: /workspace/src/learner.cc:742: \n",
      "Parameters: { \"verbose\" } are not used.\n",
      "\n",
      "  warnings.warn(smsg, UserWarning)\n"
     ]
    },
    {
     "name": "stdout",
     "output_type": "stream",
     "text": [
      "[0]\tvalidation_0-mlogloss:2.16199\n",
      "[99]\tvalidation_0-mlogloss:0.31647\n",
      "Accuracy is: 0.8961563762804248\n",
      "Classification Report:\n",
      "              precision    recall  f1-score   support\n",
      "\n",
      "           0       0.87      0.87      0.87     16893\n",
      "           1       0.82      0.69      0.75     15046\n",
      "           2       0.92      0.97      0.94     72081\n",
      "           3       0.85      0.77      0.81      3333\n",
      "           4       1.00      0.08      0.15       169\n",
      "           5       0.85      0.69      0.76      5632\n",
      "           6       0.92      0.89      0.91      1051\n",
      "           7       0.99      0.99      0.99       821\n",
      "           8       0.92      0.83      0.87       109\n",
      "           9       0.86      0.86      0.86      1524\n",
      "          10       0.87      0.45      0.59       382\n",
      "          11       0.00      0.00      0.00        10\n",
      "\n",
      "    accuracy                           0.90    117051\n",
      "   macro avg       0.82      0.67      0.71    117051\n",
      "weighted avg       0.89      0.90      0.89    117051\n",
      "\n",
      "0.8961563762804248\n",
      "-----------------------FOLD 2---------------------\n"
     ]
    },
    {
     "name": "stderr",
     "output_type": "stream",
     "text": [
      "/home/jupyter-mannat/.local/lib/python3.10/site-packages/sklearn/metrics/_classification.py:1471: UndefinedMetricWarning: Precision and F-score are ill-defined and being set to 0.0 in labels with no predicted samples. Use `zero_division` parameter to control this behavior.\n",
      "  _warn_prf(average, modifier, msg_start, len(result))\n",
      "/home/jupyter-mannat/.local/lib/python3.10/site-packages/sklearn/metrics/_classification.py:1471: UndefinedMetricWarning: Precision and F-score are ill-defined and being set to 0.0 in labels with no predicted samples. Use `zero_division` parameter to control this behavior.\n",
      "  _warn_prf(average, modifier, msg_start, len(result))\n",
      "/home/jupyter-mannat/.local/lib/python3.10/site-packages/sklearn/metrics/_classification.py:1471: UndefinedMetricWarning: Precision and F-score are ill-defined and being set to 0.0 in labels with no predicted samples. Use `zero_division` parameter to control this behavior.\n",
      "  _warn_prf(average, modifier, msg_start, len(result))\n",
      "/home/jupyter-mannat/.local/lib/python3.10/site-packages/xgboost/sklearn.py:885: UserWarning: `early_stopping_rounds` in `fit` method is deprecated for better compatibility with scikit-learn, use `early_stopping_rounds` in constructor or`set_params` instead.\n",
      "  warnings.warn(\n",
      "/home/jupyter-mannat/.local/lib/python3.10/site-packages/xgboost/core.py:160: UserWarning: [12:54:00] WARNING: /workspace/src/learner.cc:742: \n",
      "Parameters: { \"verbose\" } are not used.\n",
      "\n",
      "  warnings.warn(smsg, UserWarning)\n"
     ]
    },
    {
     "name": "stdout",
     "output_type": "stream",
     "text": [
      "[0]\tvalidation_0-mlogloss:2.16225\n",
      "[99]\tvalidation_0-mlogloss:0.31827\n",
      "Accuracy is: 0.8948834268822992\n",
      "Classification Report:\n",
      "              precision    recall  f1-score   support\n",
      "\n",
      "           0       0.87      0.87      0.87     16893\n",
      "           1       0.82      0.69      0.75     15046\n",
      "           2       0.92      0.97      0.94     72081\n",
      "           3       0.84      0.75      0.79      3333\n",
      "           4       0.88      0.04      0.08       168\n",
      "           5       0.85      0.68      0.76      5632\n",
      "           6       0.91      0.90      0.91      1052\n",
      "           7       0.99      0.99      0.99       821\n",
      "           8       0.86      0.89      0.87       109\n",
      "           9       0.85      0.89      0.87      1524\n",
      "          10       0.86      0.49      0.63       382\n",
      "          11       0.00      0.00      0.00        10\n",
      "\n",
      "    accuracy                           0.89    117051\n",
      "   macro avg       0.80      0.68      0.70    117051\n",
      "weighted avg       0.89      0.89      0.89    117051\n",
      "\n",
      "0.8948834268822992\n",
      "-----------------------FOLD 3---------------------\n"
     ]
    },
    {
     "name": "stderr",
     "output_type": "stream",
     "text": [
      "/home/jupyter-mannat/.local/lib/python3.10/site-packages/sklearn/metrics/_classification.py:1471: UndefinedMetricWarning: Precision and F-score are ill-defined and being set to 0.0 in labels with no predicted samples. Use `zero_division` parameter to control this behavior.\n",
      "  _warn_prf(average, modifier, msg_start, len(result))\n",
      "/home/jupyter-mannat/.local/lib/python3.10/site-packages/sklearn/metrics/_classification.py:1471: UndefinedMetricWarning: Precision and F-score are ill-defined and being set to 0.0 in labels with no predicted samples. Use `zero_division` parameter to control this behavior.\n",
      "  _warn_prf(average, modifier, msg_start, len(result))\n",
      "/home/jupyter-mannat/.local/lib/python3.10/site-packages/sklearn/metrics/_classification.py:1471: UndefinedMetricWarning: Precision and F-score are ill-defined and being set to 0.0 in labels with no predicted samples. Use `zero_division` parameter to control this behavior.\n",
      "  _warn_prf(average, modifier, msg_start, len(result))\n",
      "/home/jupyter-mannat/.local/lib/python3.10/site-packages/xgboost/sklearn.py:885: UserWarning: `early_stopping_rounds` in `fit` method is deprecated for better compatibility with scikit-learn, use `early_stopping_rounds` in constructor or`set_params` instead.\n",
      "  warnings.warn(\n",
      "/home/jupyter-mannat/.local/lib/python3.10/site-packages/xgboost/core.py:160: UserWarning: [12:54:45] WARNING: /workspace/src/learner.cc:742: \n",
      "Parameters: { \"verbose\" } are not used.\n",
      "\n",
      "  warnings.warn(smsg, UserWarning)\n"
     ]
    },
    {
     "name": "stdout",
     "output_type": "stream",
     "text": [
      "[0]\tvalidation_0-mlogloss:2.16151\n",
      "[99]\tvalidation_0-mlogloss:0.31705\n",
      "Accuracy is: 0.8954643702317793\n",
      "Classification Report:\n",
      "              precision    recall  f1-score   support\n",
      "\n",
      "           0       0.87      0.87      0.87     16894\n",
      "           1       0.82      0.69      0.75     15046\n",
      "           2       0.92      0.97      0.94     72080\n",
      "           3       0.86      0.76      0.80      3333\n",
      "           4       0.75      0.04      0.07       168\n",
      "           5       0.85      0.69      0.76      5632\n",
      "           6       0.91      0.90      0.90      1052\n",
      "           7       0.99      1.00      0.99       821\n",
      "           8       0.89      0.88      0.88       109\n",
      "           9       0.85      0.86      0.86      1524\n",
      "          10       0.82      0.47      0.60       382\n",
      "          11       0.00      0.00      0.00        10\n",
      "\n",
      "    accuracy                           0.90    117051\n",
      "   macro avg       0.79      0.68      0.70    117051\n",
      "weighted avg       0.89      0.90      0.89    117051\n",
      "\n",
      "0.8954643702317793\n",
      "-----------------------FOLD 4---------------------\n"
     ]
    },
    {
     "name": "stderr",
     "output_type": "stream",
     "text": [
      "/home/jupyter-mannat/.local/lib/python3.10/site-packages/sklearn/metrics/_classification.py:1471: UndefinedMetricWarning: Precision and F-score are ill-defined and being set to 0.0 in labels with no predicted samples. Use `zero_division` parameter to control this behavior.\n",
      "  _warn_prf(average, modifier, msg_start, len(result))\n",
      "/home/jupyter-mannat/.local/lib/python3.10/site-packages/sklearn/metrics/_classification.py:1471: UndefinedMetricWarning: Precision and F-score are ill-defined and being set to 0.0 in labels with no predicted samples. Use `zero_division` parameter to control this behavior.\n",
      "  _warn_prf(average, modifier, msg_start, len(result))\n",
      "/home/jupyter-mannat/.local/lib/python3.10/site-packages/sklearn/metrics/_classification.py:1471: UndefinedMetricWarning: Precision and F-score are ill-defined and being set to 0.0 in labels with no predicted samples. Use `zero_division` parameter to control this behavior.\n",
      "  _warn_prf(average, modifier, msg_start, len(result))\n",
      "/home/jupyter-mannat/.local/lib/python3.10/site-packages/xgboost/sklearn.py:885: UserWarning: `early_stopping_rounds` in `fit` method is deprecated for better compatibility with scikit-learn, use `early_stopping_rounds` in constructor or`set_params` instead.\n",
      "  warnings.warn(\n",
      "/home/jupyter-mannat/.local/lib/python3.10/site-packages/xgboost/core.py:160: UserWarning: [12:55:31] WARNING: /workspace/src/learner.cc:742: \n",
      "Parameters: { \"verbose\" } are not used.\n",
      "\n",
      "  warnings.warn(smsg, UserWarning)\n"
     ]
    },
    {
     "name": "stdout",
     "output_type": "stream",
     "text": [
      "[0]\tvalidation_0-mlogloss:2.16205\n",
      "[99]\tvalidation_0-mlogloss:0.31764\n",
      "Accuracy is: 0.8947894507522363\n",
      "Classification Report:\n",
      "              precision    recall  f1-score   support\n",
      "\n",
      "           0       0.87      0.87      0.87     16894\n",
      "           1       0.82      0.69      0.75     15046\n",
      "           2       0.92      0.97      0.94     72080\n",
      "           3       0.85      0.76      0.80      3333\n",
      "           4       0.67      0.02      0.05       169\n",
      "           5       0.85      0.70      0.77      5632\n",
      "           6       0.89      0.91      0.90      1052\n",
      "           7       0.98      0.99      0.99       821\n",
      "           8       0.89      0.81      0.84       108\n",
      "           9       0.85      0.86      0.85      1524\n",
      "          10       0.80      0.46      0.59       382\n",
      "          11       0.00      0.00      0.00        10\n",
      "\n",
      "    accuracy                           0.89    117051\n",
      "   macro avg       0.78      0.67      0.70    117051\n",
      "weighted avg       0.89      0.89      0.89    117051\n",
      "\n",
      "0.8947894507522363\n",
      "-----------------------FOLD 5---------------------\n"
     ]
    },
    {
     "name": "stderr",
     "output_type": "stream",
     "text": [
      "/home/jupyter-mannat/.local/lib/python3.10/site-packages/sklearn/metrics/_classification.py:1471: UndefinedMetricWarning: Precision and F-score are ill-defined and being set to 0.0 in labels with no predicted samples. Use `zero_division` parameter to control this behavior.\n",
      "  _warn_prf(average, modifier, msg_start, len(result))\n",
      "/home/jupyter-mannat/.local/lib/python3.10/site-packages/sklearn/metrics/_classification.py:1471: UndefinedMetricWarning: Precision and F-score are ill-defined and being set to 0.0 in labels with no predicted samples. Use `zero_division` parameter to control this behavior.\n",
      "  _warn_prf(average, modifier, msg_start, len(result))\n",
      "/home/jupyter-mannat/.local/lib/python3.10/site-packages/sklearn/metrics/_classification.py:1471: UndefinedMetricWarning: Precision and F-score are ill-defined and being set to 0.0 in labels with no predicted samples. Use `zero_division` parameter to control this behavior.\n",
      "  _warn_prf(average, modifier, msg_start, len(result))\n",
      "/home/jupyter-mannat/.local/lib/python3.10/site-packages/xgboost/sklearn.py:885: UserWarning: `early_stopping_rounds` in `fit` method is deprecated for better compatibility with scikit-learn, use `early_stopping_rounds` in constructor or`set_params` instead.\n",
      "  warnings.warn(\n",
      "/home/jupyter-mannat/.local/lib/python3.10/site-packages/xgboost/core.py:160: UserWarning: [12:56:16] WARNING: /workspace/src/learner.cc:742: \n",
      "Parameters: { \"verbose\" } are not used.\n",
      "\n",
      "  warnings.warn(smsg, UserWarning)\n"
     ]
    },
    {
     "name": "stdout",
     "output_type": "stream",
     "text": [
      "[0]\tvalidation_0-mlogloss:2.16205\n",
      "[99]\tvalidation_0-mlogloss:0.31569\n",
      "Accuracy is: 0.8957377553374171\n",
      "Classification Report:\n",
      "              precision    recall  f1-score   support\n",
      "\n",
      "           0       0.87      0.87      0.87     16894\n",
      "           1       0.82      0.69      0.75     15045\n",
      "           2       0.92      0.97      0.94     72080\n",
      "           3       0.84      0.75      0.79      3333\n",
      "           4       0.73      0.07      0.12       169\n",
      "           5       0.85      0.70      0.77      5632\n",
      "           6       0.91      0.89      0.90      1051\n",
      "           7       0.99      0.99      0.99       822\n",
      "           8       0.91      0.81      0.86       108\n",
      "           9       0.85      0.86      0.86      1525\n",
      "          10       0.87      0.53      0.66       382\n",
      "          11       0.00      0.00      0.00        10\n",
      "\n",
      "    accuracy                           0.90    117051\n",
      "   macro avg       0.80      0.68      0.71    117051\n",
      "weighted avg       0.89      0.90      0.89    117051\n",
      "\n",
      "0.8957377553374171\n",
      "-----------------------FOLD 6---------------------\n"
     ]
    },
    {
     "name": "stderr",
     "output_type": "stream",
     "text": [
      "/home/jupyter-mannat/.local/lib/python3.10/site-packages/sklearn/metrics/_classification.py:1471: UndefinedMetricWarning: Precision and F-score are ill-defined and being set to 0.0 in labels with no predicted samples. Use `zero_division` parameter to control this behavior.\n",
      "  _warn_prf(average, modifier, msg_start, len(result))\n",
      "/home/jupyter-mannat/.local/lib/python3.10/site-packages/sklearn/metrics/_classification.py:1471: UndefinedMetricWarning: Precision and F-score are ill-defined and being set to 0.0 in labels with no predicted samples. Use `zero_division` parameter to control this behavior.\n",
      "  _warn_prf(average, modifier, msg_start, len(result))\n",
      "/home/jupyter-mannat/.local/lib/python3.10/site-packages/sklearn/metrics/_classification.py:1471: UndefinedMetricWarning: Precision and F-score are ill-defined and being set to 0.0 in labels with no predicted samples. Use `zero_division` parameter to control this behavior.\n",
      "  _warn_prf(average, modifier, msg_start, len(result))\n",
      "/home/jupyter-mannat/.local/lib/python3.10/site-packages/xgboost/sklearn.py:885: UserWarning: `early_stopping_rounds` in `fit` method is deprecated for better compatibility with scikit-learn, use `early_stopping_rounds` in constructor or`set_params` instead.\n",
      "  warnings.warn(\n",
      "/home/jupyter-mannat/.local/lib/python3.10/site-packages/xgboost/core.py:160: UserWarning: [12:57:03] WARNING: /workspace/src/learner.cc:742: \n",
      "Parameters: { \"verbose\" } are not used.\n",
      "\n",
      "  warnings.warn(smsg, UserWarning)\n"
     ]
    },
    {
     "name": "stdout",
     "output_type": "stream",
     "text": [
      "[0]\tvalidation_0-mlogloss:2.16208\n",
      "[99]\tvalidation_0-mlogloss:0.31818\n",
      "Accuracy is: 0.8940889014190395\n",
      "Classification Report:\n",
      "              precision    recall  f1-score   support\n",
      "\n",
      "           0       0.87      0.87      0.87     16894\n",
      "           1       0.82      0.69      0.75     15045\n",
      "           2       0.92      0.97      0.94     72080\n",
      "           3       0.84      0.74      0.79      3333\n",
      "           4       0.80      0.05      0.09       169\n",
      "           5       0.84      0.69      0.76      5632\n",
      "           6       0.92      0.89      0.91      1051\n",
      "           7       0.98      0.99      0.99       822\n",
      "           8       0.88      0.83      0.86       108\n",
      "           9       0.84      0.86      0.85      1525\n",
      "          10       0.89      0.51      0.65       382\n",
      "          11       0.00      0.00      0.00        10\n",
      "\n",
      "    accuracy                           0.89    117051\n",
      "   macro avg       0.80      0.67      0.70    117051\n",
      "weighted avg       0.89      0.89      0.89    117051\n",
      "\n",
      "0.8940889014190395\n",
      "-----------------------FOLD 7---------------------\n"
     ]
    },
    {
     "name": "stderr",
     "output_type": "stream",
     "text": [
      "/home/jupyter-mannat/.local/lib/python3.10/site-packages/sklearn/metrics/_classification.py:1471: UndefinedMetricWarning: Precision and F-score are ill-defined and being set to 0.0 in labels with no predicted samples. Use `zero_division` parameter to control this behavior.\n",
      "  _warn_prf(average, modifier, msg_start, len(result))\n",
      "/home/jupyter-mannat/.local/lib/python3.10/site-packages/sklearn/metrics/_classification.py:1471: UndefinedMetricWarning: Precision and F-score are ill-defined and being set to 0.0 in labels with no predicted samples. Use `zero_division` parameter to control this behavior.\n",
      "  _warn_prf(average, modifier, msg_start, len(result))\n",
      "/home/jupyter-mannat/.local/lib/python3.10/site-packages/sklearn/metrics/_classification.py:1471: UndefinedMetricWarning: Precision and F-score are ill-defined and being set to 0.0 in labels with no predicted samples. Use `zero_division` parameter to control this behavior.\n",
      "  _warn_prf(average, modifier, msg_start, len(result))\n",
      "/home/jupyter-mannat/.local/lib/python3.10/site-packages/xgboost/sklearn.py:885: UserWarning: `early_stopping_rounds` in `fit` method is deprecated for better compatibility with scikit-learn, use `early_stopping_rounds` in constructor or`set_params` instead.\n",
      "  warnings.warn(\n",
      "/home/jupyter-mannat/.local/lib/python3.10/site-packages/xgboost/core.py:160: UserWarning: [12:57:49] WARNING: /workspace/src/learner.cc:742: \n",
      "Parameters: { \"verbose\" } are not used.\n",
      "\n",
      "  warnings.warn(smsg, UserWarning)\n"
     ]
    },
    {
     "name": "stdout",
     "output_type": "stream",
     "text": [
      "[0]\tvalidation_0-mlogloss:2.16226\n",
      "[99]\tvalidation_0-mlogloss:0.32144\n",
      "Accuracy is: 0.893055163988347\n",
      "Classification Report:\n",
      "              precision    recall  f1-score   support\n",
      "\n",
      "           0       0.87      0.87      0.87     16894\n",
      "           1       0.81      0.68      0.74     15045\n",
      "           2       0.92      0.97      0.94     72080\n",
      "           3       0.84      0.75      0.79      3333\n",
      "           4       0.73      0.05      0.09       169\n",
      "           5       0.85      0.68      0.76      5632\n",
      "           6       0.90      0.91      0.90      1051\n",
      "           7       0.99      0.99      0.99       822\n",
      "           8       0.90      0.86      0.88       108\n",
      "           9       0.86      0.87      0.86      1525\n",
      "          10       0.79      0.44      0.57       382\n",
      "          11       0.00      0.00      0.00        10\n",
      "\n",
      "    accuracy                           0.89    117051\n",
      "   macro avg       0.79      0.67      0.70    117051\n",
      "weighted avg       0.89      0.89      0.89    117051\n",
      "\n",
      "0.893055163988347\n",
      "-----------------------FOLD 8---------------------\n"
     ]
    },
    {
     "name": "stderr",
     "output_type": "stream",
     "text": [
      "/home/jupyter-mannat/.local/lib/python3.10/site-packages/sklearn/metrics/_classification.py:1471: UndefinedMetricWarning: Precision and F-score are ill-defined and being set to 0.0 in labels with no predicted samples. Use `zero_division` parameter to control this behavior.\n",
      "  _warn_prf(average, modifier, msg_start, len(result))\n",
      "/home/jupyter-mannat/.local/lib/python3.10/site-packages/sklearn/metrics/_classification.py:1471: UndefinedMetricWarning: Precision and F-score are ill-defined and being set to 0.0 in labels with no predicted samples. Use `zero_division` parameter to control this behavior.\n",
      "  _warn_prf(average, modifier, msg_start, len(result))\n",
      "/home/jupyter-mannat/.local/lib/python3.10/site-packages/sklearn/metrics/_classification.py:1471: UndefinedMetricWarning: Precision and F-score are ill-defined and being set to 0.0 in labels with no predicted samples. Use `zero_division` parameter to control this behavior.\n",
      "  _warn_prf(average, modifier, msg_start, len(result))\n",
      "/home/jupyter-mannat/.local/lib/python3.10/site-packages/xgboost/sklearn.py:885: UserWarning: `early_stopping_rounds` in `fit` method is deprecated for better compatibility with scikit-learn, use `early_stopping_rounds` in constructor or`set_params` instead.\n",
      "  warnings.warn(\n",
      "/home/jupyter-mannat/.local/lib/python3.10/site-packages/xgboost/core.py:160: UserWarning: [12:58:34] WARNING: /workspace/src/learner.cc:742: \n",
      "Parameters: { \"verbose\" } are not used.\n",
      "\n",
      "  warnings.warn(smsg, UserWarning)\n"
     ]
    },
    {
     "name": "stdout",
     "output_type": "stream",
     "text": [
      "[0]\tvalidation_0-mlogloss:2.16193\n",
      "[99]\tvalidation_0-mlogloss:0.31826\n",
      "Accuracy is: 0.8943281133864726\n",
      "Classification Report:\n",
      "              precision    recall  f1-score   support\n",
      "\n",
      "           0       0.87      0.86      0.87     16894\n",
      "           1       0.81      0.69      0.75     15045\n",
      "           2       0.92      0.97      0.94     72080\n",
      "           3       0.85      0.75      0.80      3333\n",
      "           4       0.89      0.05      0.09       169\n",
      "           5       0.85      0.69      0.76      5632\n",
      "           6       0.90      0.89      0.90      1051\n",
      "           7       0.98      0.99      0.99       821\n",
      "           8       0.88      0.86      0.87       108\n",
      "           9       0.84      0.87      0.86      1525\n",
      "          10       0.84      0.46      0.59       382\n",
      "          11       0.00      0.00      0.00        11\n",
      "\n",
      "    accuracy                           0.89    117051\n",
      "   macro avg       0.80      0.67      0.70    117051\n",
      "weighted avg       0.89      0.89      0.89    117051\n",
      "\n",
      "0.8943281133864726\n",
      "-----------------------FOLD 9---------------------\n"
     ]
    },
    {
     "name": "stderr",
     "output_type": "stream",
     "text": [
      "/home/jupyter-mannat/.local/lib/python3.10/site-packages/sklearn/metrics/_classification.py:1471: UndefinedMetricWarning: Precision and F-score are ill-defined and being set to 0.0 in labels with no predicted samples. Use `zero_division` parameter to control this behavior.\n",
      "  _warn_prf(average, modifier, msg_start, len(result))\n",
      "/home/jupyter-mannat/.local/lib/python3.10/site-packages/sklearn/metrics/_classification.py:1471: UndefinedMetricWarning: Precision and F-score are ill-defined and being set to 0.0 in labels with no predicted samples. Use `zero_division` parameter to control this behavior.\n",
      "  _warn_prf(average, modifier, msg_start, len(result))\n",
      "/home/jupyter-mannat/.local/lib/python3.10/site-packages/sklearn/metrics/_classification.py:1471: UndefinedMetricWarning: Precision and F-score are ill-defined and being set to 0.0 in labels with no predicted samples. Use `zero_division` parameter to control this behavior.\n",
      "  _warn_prf(average, modifier, msg_start, len(result))\n",
      "/home/jupyter-mannat/.local/lib/python3.10/site-packages/xgboost/sklearn.py:885: UserWarning: `early_stopping_rounds` in `fit` method is deprecated for better compatibility with scikit-learn, use `early_stopping_rounds` in constructor or`set_params` instead.\n",
      "  warnings.warn(\n",
      "/home/jupyter-mannat/.local/lib/python3.10/site-packages/xgboost/core.py:160: UserWarning: [12:59:20] WARNING: /workspace/src/learner.cc:742: \n",
      "Parameters: { \"verbose\" } are not used.\n",
      "\n",
      "  warnings.warn(smsg, UserWarning)\n"
     ]
    },
    {
     "name": "stdout",
     "output_type": "stream",
     "text": [
      "[0]\tvalidation_0-mlogloss:2.16197\n"
     ]
    }
   ],
   "source": [
    "#To train model and make prediction\n",
    "\n",
    "func_= Model(train, test)\n",
    "prediction, model, redundant = func_()"
   ]
  },
  {
   "cell_type": "code",
   "execution_count": null,
   "metadata": {
    "colab": {
     "base_uri": "https://localhost:8080/"
    },
    "id": "sueoRdaykxzp",
    "outputId": "7df18311-f8f2-4710-f721-d3aa12aa1e43"
   },
   "outputs": [
    {
     "data": {
      "text/plain": [
       "array([2, 2, 2, ..., 0, 1, 0])"
      ]
     },
     "execution_count": 25,
     "metadata": {},
     "output_type": "execute_result"
    }
   ],
   "source": [
    "prediction"
   ]
  }
 ],
 "metadata": {
  "accelerator": "GPU",
  "colab": {
   "provenance": []
  },
  "kernelspec": {
   "display_name": "Python 3 (ipykernel)",
   "language": "python",
   "name": "python3"
  },
  "language_info": {
   "codemirror_mode": {
    "name": "ipython",
    "version": 3
   },
   "file_extension": ".py",
   "mimetype": "text/x-python",
   "name": "python",
   "nbconvert_exporter": "python",
   "pygments_lexer": "ipython3",
   "version": "3.10.10"
  }
 },
 "nbformat": 4,
 "nbformat_minor": 4
}
